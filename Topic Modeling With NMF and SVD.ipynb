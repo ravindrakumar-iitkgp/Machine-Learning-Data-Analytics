{
 "cells": [
  {
   "cell_type": "markdown",
   "metadata": {},
   "source": [
    "# Topic Modeling With NMF and SVD using 20newsgroups dataset"
   ]
  },
  {
   "cell_type": "markdown",
   "metadata": {},
   "source": [
    "### Importing the dependencies"
   ]
  },
  {
   "cell_type": "code",
   "execution_count": 1,
   "metadata": {},
   "outputs": [],
   "source": [
    "import numpy as np\n",
    "from sklearn.datasets import fetch_20newsgroups\n",
    "from sklearn import decomposition\n",
    "from scipy import linalg\n",
    "import matplotlib.pyplot as plt"
   ]
  },
  {
   "cell_type": "code",
   "execution_count": 2,
   "metadata": {},
   "outputs": [],
   "source": [
    "%matplotlib inline\n",
    "np.set_printoptions(suppress=True)"
   ]
  },
  {
   "cell_type": "markdown",
   "metadata": {},
   "source": [
    "# EDA"
   ]
  },
  {
   "cell_type": "code",
   "execution_count": 3,
   "metadata": {},
   "outputs": [
    {
     "name": "stderr",
     "output_type": "stream",
     "text": [
      "Downloading 20news dataset. This may take a few minutes.\n",
      "Downloading dataset from https://ndownloader.figshare.com/files/5975967 (14 MB)\n"
     ]
    }
   ],
   "source": [
    "categories = ['alt.atheism','talk.religion.misc',\n",
    "              'comp.graphics','sci.space']\n",
    "remove = ('header','footers','quotes')\n",
    "newsgroup_train = fetch_20newsgroups(subset='train',\n",
    "                                     categories=categories,\n",
    "                                    remove=remove)\n",
    "newsgroup_train = fetch_20newsgroups(subset='test',\n",
    "                                     categories=categories,\n",
    "                                    remove=remove)"
   ]
  },
  {
   "cell_type": "code",
   "execution_count": 15,
   "metadata": {},
   "outputs": [
    {
     "data": {
      "text/plain": [
       "dict_keys(['data', 'filenames', 'target_names', 'target', 'DESCR'])"
      ]
     },
     "execution_count": 15,
     "metadata": {},
     "output_type": "execute_result"
    }
   ],
   "source": [
    "newsgroup_train.keys()"
   ]
  },
  {
   "cell_type": "code",
   "execution_count": 4,
   "metadata": {},
   "outputs": [
    {
     "data": {
      "text/plain": [
       "((1353,), (1353,))"
      ]
     },
     "execution_count": 4,
     "metadata": {},
     "output_type": "execute_result"
    }
   ],
   "source": [
    "newsgroup_train.filenames.shape,newsgroup_train.target.shape"
   ]
  },
  {
   "cell_type": "code",
   "execution_count": 6,
   "metadata": {},
   "outputs": [
    {
     "name": "stdout",
     "output_type": "stream",
     "text": [
      "From: prb@access.digex.net (Pat)\n",
      "Subject: Re: Near Miss Asteroids (Q)\n",
      "Organization: Express Access Online Communications, Greenbelt, MD USA\n",
      "Lines: 4\n",
      "Distribution: sci\n",
      "NNTP-Posting-Host: access.digex.net\n",
      "\n",
      "\n",
      "TRry the SKywatch project in  Arizona.\n",
      "From: ing1023@ee.up.ac.za (ING1023)\n",
      "Subject: Vatican library\n",
      "Organization: Electrical and Computer Engineering, University of Pretoria\n",
      "Lines: 8\n",
      "NNTP-Posting-Host: mccartney.ee.up.ac.za\n",
      "\n",
      "\n",
      "\n",
      " The Vatican library recently made a tour of the US.\n",
      " Can anyone help me in finding a FTP site where this collection is \n",
      " available.\n",
      "From: Zheng Wang <zw10+@andrew.cmu.edu>\n",
      "Subject: help\n",
      "Organization: Sponsored account, Physics, Carnegie Mellon, Pittsburgh, PA\n",
      "Lines: 12\n",
      "NNTP-Posting-Host: po2.andrew.cmu.edu\n",
      "\n",
      "Hi there,\n",
      "\n",
      "I am here looking for some help.\n",
      "\n",
      "My friend is a interior decor designer. He is from Thailand. He is\n",
      "trying to find some graphics software on PC. Any suggestion on which\n",
      "software to buy,where to buy and how much it costs ? He likes the most\n",
      "sophisticated \n",
      "software(the more features it has,the better)\n"
     ]
    }
   ],
   "source": [
    "print(\"\\n\".join(newsgroup_train.data[:3]))"
   ]
  },
  {
   "cell_type": "code",
   "execution_count": 8,
   "metadata": {},
   "outputs": [
    {
     "data": {
      "text/plain": [
       "array(['sci.space', 'comp.graphics', 'comp.graphics'], dtype='<U18')"
      ]
     },
     "execution_count": 8,
     "metadata": {},
     "output_type": "execute_result"
    }
   ],
   "source": [
    "np.array(newsgroup_train.target_names)[newsgroup_train.target[:3]]"
   ]
  },
  {
   "cell_type": "code",
   "execution_count": 16,
   "metadata": {},
   "outputs": [
    {
     "data": {
      "text/plain": [
       "array([2, 1, 1, 1, 1, 1, 2, 2, 0, 2], dtype=int64)"
      ]
     },
     "execution_count": 16,
     "metadata": {},
     "output_type": "execute_result"
    }
   ],
   "source": [
    "newsgroup_train.target[:10]"
   ]
  },
  {
   "cell_type": "code",
   "execution_count": 18,
   "metadata": {},
   "outputs": [],
   "source": [
    "num_topics,num_top_words = 6,8"
   ]
  },
  {
   "cell_type": "markdown",
   "metadata": {},
   "source": [
    "# Data Preprocessing"
   ]
  },
  {
   "cell_type": "code",
   "execution_count": 19,
   "metadata": {},
   "outputs": [],
   "source": [
    "from sklearn.feature_extraction.text import CountVectorizer,TfidfVectorizer"
   ]
  },
  {
   "cell_type": "code",
   "execution_count": 20,
   "metadata": {},
   "outputs": [],
   "source": [
    "import nltk"
   ]
  },
  {
   "cell_type": "code",
   "execution_count": 24,
   "metadata": {},
   "outputs": [],
   "source": [
    "vectorizer = CountVectorizer(stop_words='english')"
   ]
  },
  {
   "cell_type": "code",
   "execution_count": 25,
   "metadata": {},
   "outputs": [
    {
     "data": {
      "text/plain": [
       "(1353, 23272)"
      ]
     },
     "execution_count": 25,
     "metadata": {},
     "output_type": "execute_result"
    }
   ],
   "source": [
    "vectors = vectorizer.fit_transform(newsgroup_train.data).todense()\n",
    "vectors.shape"
   ]
  },
  {
   "cell_type": "code",
   "execution_count": 32,
   "metadata": {},
   "outputs": [
    {
     "name": "stdout",
     "output_type": "stream",
     "text": [
      "1353 (1353, 23272)\n"
     ]
    }
   ],
   "source": [
    "print(len(newsgroup_train.data),vectors.shape)"
   ]
  },
  {
   "cell_type": "code",
   "execution_count": 34,
   "metadata": {},
   "outputs": [],
   "source": [
    "vocab = np.array(vectorizer.get_feature_names())"
   ]
  },
  {
   "cell_type": "code",
   "execution_count": 35,
   "metadata": {},
   "outputs": [
    {
     "data": {
      "text/plain": [
       "(23272,)"
      ]
     },
     "execution_count": 35,
     "metadata": {},
     "output_type": "execute_result"
    }
   ],
   "source": [
    "vocab.shape"
   ]
  },
  {
   "cell_type": "code",
   "execution_count": 36,
   "metadata": {},
   "outputs": [
    {
     "data": {
      "text/plain": [
       "array(['diamond', 'diana', 'diane', 'diaper', 'diaries', 'diary', 'dib',\n",
       "       'dibs', 'dic5340', 'dicer', 'dichotomy', 'dick', 'dictated',\n",
       "       'dictator', 'dictionary', 'dicussion', 'did', 'didier', 'didn',\n",
       "       'didnt'], dtype='<U80')"
      ]
     },
     "execution_count": 36,
     "metadata": {},
     "output_type": "execute_result"
    }
   ],
   "source": [
    "vocab[7000:7020]"
   ]
  },
  {
   "cell_type": "markdown",
   "metadata": {},
   "source": [
    "# Singular Value Decomposition(SVD)"
   ]
  },
  {
   "cell_type": "code",
   "execution_count": 37,
   "metadata": {},
   "outputs": [
    {
     "name": "stdout",
     "output_type": "stream",
     "text": [
      "Wall time: 7 s\n"
     ]
    }
   ],
   "source": [
    "%time U,s,Vh = linalg.svd(vectors,full_matrices=False)"
   ]
  },
  {
   "cell_type": "code",
   "execution_count": 38,
   "metadata": {},
   "outputs": [
    {
     "name": "stdout",
     "output_type": "stream",
     "text": [
      "(1353, 1353) (1353,) (1353, 23272)\n"
     ]
    }
   ],
   "source": [
    "print(U.shape,s.shape,Vh.shape)"
   ]
  },
  {
   "cell_type": "code",
   "execution_count": 47,
   "metadata": {
    "scrolled": true
   },
   "outputs": [
    {
     "data": {
      "text/plain": [
       "array([[566.53570689,   0.        ,   0.        ,   0.        ],\n",
       "       [  0.        , 380.50210454,   0.        ,   0.        ],\n",
       "       [  0.        ,   0.        , 342.72923973,   0.        ],\n",
       "       [  0.        ,   0.        ,   0.        , 258.26538452]])"
      ]
     },
     "execution_count": 47,
     "metadata": {},
     "output_type": "execute_result"
    }
   ],
   "source": [
    "np.diag(s[:4])"
   ]
  },
  {
   "cell_type": "markdown",
   "metadata": {},
   "source": [
    "### Singular values variation\n",
    "* it tells the importance of the topic"
   ]
  },
  {
   "cell_type": "code",
   "execution_count": 45,
   "metadata": {},
   "outputs": [
    {
     "data": {
      "text/plain": [
       "[<matplotlib.lines.Line2D at 0x23336d569c8>]"
      ]
     },
     "execution_count": 45,
     "metadata": {},
     "output_type": "execute_result"
    },
    {
     "data": {
      "image/png": "[encoded data removed]",
      "text/plain": [
       "<Figure size 432x288 with 1 Axes>"
      ]
     },
     "metadata": {
      "needs_background": "light"
     },
     "output_type": "display_data"
    }
   ],
   "source": [
    "plt.plot(s)"
   ]
  },
  {
   "cell_type": "code",
   "execution_count": 48,
   "metadata": {},
   "outputs": [
    {
     "data": {
      "text/plain": [
       "[<matplotlib.lines.Line2D at 0x23336ce6108>]"
      ]
     },
     "execution_count": 48,
     "metadata": {},
     "output_type": "execute_result"
    },
    {
     "data": {
      "image/png": "[encoded data removed]",
      "text/plain": [
       "<Figure size 432x288 with 1 Axes>"
      ]
     },
     "metadata": {
      "needs_background": "light"
     },
     "output_type": "display_data"
    }
   ],
   "source": [
    "plt.plot(s[:10])"
   ]
  },
  {
   "cell_type": "code",
   "execution_count": 49,
   "metadata": {},
   "outputs": [],
   "source": [
    "num_top_words=8\n",
    "\n",
    "def show_topics(a):\n",
    "    top_words = lambda t:[\n",
    "        vocab[i] for i in np.argsort(t)[:-num_top_words-1:-1]]\n",
    "    topic_words = ([top_words(t) for t in a])\n",
    "    return [' '.join(t) for t in topic_words]"
   ]
  },
  {
   "cell_type": "code",
   "execution_count": 50,
   "metadata": {},
   "outputs": [
    {
     "data": {
      "text/plain": [
       "['n109 f118 permanet resorts gans edwin asuacad icend',\n",
       " 'jpeg gif file image color quality format jfif',\n",
       " 'edu graphics pub data ftp mail 128 ray',\n",
       " 'edu graphics pub jehovah elohim mail lord ftp',\n",
       " 'graphics jpeg edu pub mail ray send 128',\n",
       " 'image spacecraft planet images processing graphics jehovah solar',\n",
       " 'image larson universe theory gamma physical ray edu',\n",
       " 'larson theory universe spacecraft physical sun material sgi',\n",
       " 'gopher search edu siggraph available isbn client spacecraft',\n",
       " 'gopher search pub client database larson software theory']"
      ]
     },
     "execution_count": 50,
     "metadata": {},
     "output_type": "execute_result"
    }
   ],
   "source": [
    "show_topics(Vh[:10])"
   ]
  },
  {
   "cell_type": "markdown",
   "metadata": {},
   "source": [
    "We get topics that match the kinds of clusters we would expect! This is despite the fact that this is an unsupervised algorithm - which is to say, we never actually told the algorithm how our documents are grouped."
   ]
  },
  {
   "cell_type": "markdown",
   "metadata": {},
   "source": [
    "# Non-negative Matrix Factorization(NMF)"
   ]
  },
  {
   "cell_type": "code",
   "execution_count": 63,
   "metadata": {},
   "outputs": [],
   "source": [
    "m,n = vectors.shape\n",
    "d = 5 #num topics"
   ]
  },
  {
   "cell_type": "code",
   "execution_count": 65,
   "metadata": {},
   "outputs": [],
   "source": [
    "clf = decomposition.NMF(n_components=d,random_state=1)\n",
    "W1 = clf.fit_transform(vectors)\n",
    "H1 = clf.components_"
   ]
  },
  {
   "cell_type": "code",
   "execution_count": 66,
   "metadata": {},
   "outputs": [
    {
     "data": {
      "text/plain": [
       "['jpeg image gif file color images format quality',\n",
       " 'jehovah elohim lord god christ father mcconkie unto',\n",
       " 'edu graphics pub mail ftp 128 ray send',\n",
       " 'planet earth spacecraft venus solar surface space atmosphere',\n",
       " 'image data available software processing edu ftp analysis']"
      ]
     },
     "execution_count": 66,
     "metadata": {},
     "output_type": "execute_result"
    }
   ],
   "source": [
    "show_topics(H1)"
   ]
  },
  {
   "cell_type": "markdown",
   "metadata": {},
   "source": [
    "## Topic Frequency-Inverse Document Frequency(TF-IDF)"
   ]
  },
  {
   "cell_type": "code",
   "execution_count": 69,
   "metadata": {},
   "outputs": [],
   "source": [
    "vectorizer_tfidf = TfidfVectorizer(stop_words='english')\n",
    "vectors_tfidf=vectorizer_tfidf.fit_transform(newsgroup_train.data)"
   ]
  },
  {
   "cell_type": "code",
   "execution_count": 70,
   "metadata": {},
   "outputs": [
    {
     "data": {
      "text/plain": [
       "[\"From: hotopp@ami1.bwi.wec.com (Daniel T. Hotopp)\\nSubject: Drivers for Diamond Viper Card\\nOrganization: Westinghouse Electronic Systems Group, Baltimore, MD.\\nLines: 13\\n\\nI've been away for a couple of weeks and have become out of touch with the \\nlatest information on the Diamond Viper Card.  Does anyone know if Diamond \\nhas come out with any Vesa Driver updates lately?  Also, I was wondering \\nwhat the latest Windows Driver version is up to now.\\n\\n\\t\\t\\t\\tThanks in advance,\\n\\t\\t\\t\\t\\tDan\",\n",
       " 'From: svec5@menudo.uh.edu (T.C. Zhao)\\nSubject: Full Color Image Editor for SGI Workstations\\nOrganization: University of Houston\\nLines: 159\\nDistribution: world\\nNNTP-Posting-Host: menudo.uh.edu\\n\\n\\n   I am happy to announce the first public release of the bit program,\\n   an INTERACTIVE, FULL COLOR image viewer and editor based on SGI GL.\\n   Besides typical touchup tasks, such as crop, rotate, smooth, etc,\\n   bit offers some unique features not available in similar programs,\\n   such as text and vector support and the separation of text and image.\\n\\n   The following is the relevant sections from the man page. \\n   -----------------------------------------------------------------\\n\\nPre-Release of May, 1993                                       BIT(1L)\\n\\nNAME\\n   bit - Bitmap Image Touchup for SGI Workstations\\n\\nDESCRIPTION\\n  bit is an interactive full color image viewer and editor based on\\n  Silicon Graphics GL. As a full color program, bit handles images of both\\n  24bits and color index in a natural and efficient manner.\\n\\n  As an image viewer, bit allows list of images to be displayed in their\\n  original type (24bits or color index) in any order and in any of the\\n  many built-in styles of display. You can walk up and down the list using\\n  mouse and keyboard, or you can let bit do the walk for you (The\\n  SlideShow).  With the pan and zoom features, large images can be viewed\\n  in full without being limited by the window or screen size.\\n\\n  As an image editor, bit performs a large number of image editing and\\n  processing tasks accurately and efficiently. It keeps information loss\\n  at any stage of the editing process at an absolute minimum by performing\\n  subpixel sampling automatically while conserving the input image type\\n  whenever possible to avoid unnecessary promotion and/or quantization of\\n  input images. You can also cut a piece of an image and paste it into\\n  another.  In addition, arbitrarily colored and sized text and simple\\n  geometric figures can be rendered on top of an image for annotation with\\n  the option to make them part of the bitmap or output separately to take\\n  advantage of the higher printer resolutions (e.g. PostScript).\\n\\n  Bit can also be used as a graphical user interface to many existing\\n  image processing programs by defining external bindings which in essence\\n  turn command line oriented programs into bit subfunctions and can be\\n  accessed by a press of a button, and best of all, the processed image\\n  will be read back and displayed immediately. Convolution using exter-\\n  nally defined matrices of arbitrary order can be performed dynamically\\n  giving great flexibility in processing an image.\\n\\nFEATURES\\n\\n  Bit performs all of its image manipulations interactively with a\\n  continuous progress report, and once the processing is complete, \\n  the processed image will be displayed.\\n\\n  Current features include\\n\\n  o Rotates an image by an arbitrary angle with the option of anti-aliasing\\n    and filling the \"rotated out\" region with an arbitrary color.\\n\\n  o Scales an image by arbitrary factors in x- and/or y-directions with\\n    the option of subpixel sampling.\\n\\n  o Renders text of arbitrary color, size or orientation on top of an\\n    image with the option of rendering directly into the raster or saving\\n    the text and raster separately, such as into a PostScript file, to\\n    take advantage of a higher printer resolution. Besides normal text\\n    strings, many predefined special symbols can be input conveniently as\\n    in TeX(1), e.g., $\\\\alpha$\\\\small$\\\\beta$ produces Greek alphabet alpha\\n    followed by a slightly smaller Greek alphabet beta.\\n\\n  o Presents graphically the histogram of an image.\\n\\n  o Performs arbitrary 1-to-1 pixel transformation.  The transformation\\n    function can be specified interactively and can be of arbitrary\\n    forms. Further, the transformation can be applied to RGB channels\\n    separately or simultaneously and to the entire image or a portion of\\n    it. Many difficult tasks, such as thresholding, can be accomplished\\n    rather easily by 1-to-1 transformation in combination with the avai-\\n    lability of graphical histograms of the image.\\n\\n  o Places simple geometric figures (SGFs), e.g., arrows, circles, trian-\\n    gles etc., of arbitrary color, size and orientation into an image at\\n    arbitrary locations addressed either in absolute pixels or in some\\n    user definable coordinate system units, with the option of rendering\\n    directly into the raster or save the sgfs and raster separately (e.g,\\n    PostScript file). All SGFs can be scaled in x- and y-directions\\n    independently or simultaneously (this is how to get an ellipse from a\\n    circle).\\n\\n  o Performs edge detection. In combination with image histograms and 1-\\n    to-1 transformation, very accurate result can be obtained.\\n\\n  o Performs histogram equalization.\\n\\n  o Performs convolution with externally defined (square) matrices of\\n    arbitrary order.\\n\\n  o Crops a rectangular portion of an image.\\n\\n  o Cuts and pastes across images.\\n\\n  o Magnifies any portion of an image by any amount.\\n\\n  o Displays a list of images in sequence with a user specifiable pause\\n    interval between images. (SlideShow)\\n\\n  o Measures RGB intensities of a pixel at any location or all pixels\\n    along an arbitrary line with the result presented as RGB intensities\\n    or as an intensity vs. distance plot.\\n\\n  o Performs image type conversions.\\n\\n  o Converts image formats.\\n\\n  o Smoothes an image (Special convolution).\\n\\n  o Filters an image by external programs and read the filtered image\\n    back and display it.\\n\\n  o Modify an individual pixel\\'s RGB values.\\n\\n  o Performs FFT on the entire image or a portion of it and display the\\n    resulting power spectra.\\n\\n  o Spray and brush paint in full color (unavailable in this pre-release).\\n\\n SUPPORTED FORMATS\\n      o  IRIS RGB, native to SGI IRIS\\n      o  JPEG(JFIF) format\\n      o  CompuServ GIF\\n      o  PNM(Portable Any Map), including PPM, PGM and PBM.\\n      o  XBM (X Window Bitmap)\\n      o  TIFF\\n      o  PostScript(Write only)\\n\\nHardware requirements:\\n---------------------------------------------------------------\\n   Any SGI workstation that supports RGBmode(), including indigoes.\\n\\nWhere to get it:\\n---------------------------------------------------------------\\n   anonymous ftp to monte.svec.uh.edu   /pub/bit/bitxxx.tar.Z\\n   where xxx is the version number. Current version is 0.73\\n\\n   Read src/01Readme for installation instructions after unpacking\\n\\nAcknowledgement:\\n---------------------------------------------------------------\\n   JPEG support is based on the Independent JPEG groups\\'s library Version 4.\\n   FORMS library, developed by Mark Overmars, is used for GUI.\\n   Both JPEG and FORMS library are included in this release.\\n\\n---------------------------------------------------------------\\n  Bit is the program you will ever need to view and annotate\\n  images; The built-in editing features will satisfy most of\\n  your editing needs. In addition, the external filter and dynamical\\n  kernel will utilize any program you already have. So try it\\n  (and you will like it).',\n",
       " 'From: nfotis@ntua.gr (Nick C. Fotis)\\nSubject: (27 Apr 93) Computer Graphics Resource Listing : WEEKLY [part 1/3]\\nLines: 1594\\nReply-To: nfotis@theseas.ntua.gr (Nick (Nikolaos) Fotis)\\nOrganization: National Technical Univ. of Athens\\n\\nArchive-name: graphics/resources-list/part1\\nLast-modified: 1993/04/27\\n\\n\\nComputer Graphics Resource Listing : WEEKLY POSTING [ PART 1/3 ]\\n===================================================\\nLast Change : 27 April 1993\\n\\nMany FAQs, including this Listing, are available on the archive site\\npit-manager.mit.edu (alias rtfm.mit.edu) [18.172.1.27] in the directory\\npub/usenet/news.answers.  The name under which a FAQ is archived appears\\nin the Archive-name line at the top of the article.\\nThis FAQ is archived as graphics/resources-list/part[1-3]\\n\\nThere\\'s a mail server on that machine. You send a e-mail message to\\nmail-server@pit-manager.mit.edu  containing the keyword \"help\" (without\\nquotes!) in the message body.\\n\\nYou can see in many other places for this Listing. See the item:\\n\\n0. Places to find the Resource Listing\\n\\nfor more information.\\n\\nItems Changed:\\n--------------\\n\\nRE-ARRANGED the subjects, in order to fir better in the 63K/article limit.\\nI PLAN ON CHANGING HEADERS SOON, SO BE CAREFUL! ONLY THE \"Resource Listing\"\\nkeys are sure to remain in the Subject: line!\\n\\n3. Computer graphics FTP site list, by Eric Haines\\n4. Mail servers and graphics-oriented BBSes\\n9. Plotting packages\\n\\n[ I\\'m thinking of making this post bi-weekly. What do you think??? ]\\n\\n--------------\\n\\nLines which got changed, have the `#\\' character in front of them.\\nAdded lines are prepended with a `+\\'\\nRemoved lines are just removed. Use \\'diff\\' to locate these changes.\\n\\n========================================================================\\n\\nThis text is (C)Copyright 1992, 1993 of Nikolaos C. Fotis. You can copy\\nfreely this file, provided you keep this copyright notice intact.\\n\\nCompiled by Nikolaos (Nick) C. Fotis, e-mail: nfotis@theseas.ntua.gr\\n\\nPlease contact me for updates,corrections, etc.\\n\\nDisclaimer: I do not guarantee the accuracy of this document.\\nUse it at your own risk.\\n\\n========================================================================\\n\\nThis is mainly a guide for computer graphics software.\\nI would suggest reading the Comp. Graphics FAQ for image analysis stuff.\\n\\nIt\\'s entitled: \\n (date) comp.graphics Frequently Asked Questions (FAQ)\\n\\n John T. Grieggs <grieggs@jpl-devvax.jpl.nasa.gov> is the poster of the\\n official comp.graphics FAQ\\n\\nI have included my comments within braces \\'[\\' and \\']\\'.\\n\\nNikolaos Fotis\\n\\n========================================================================\\n\\nContents of the Resource Listing\\n================================\\n\\nPART1:\\n------\\n0. Places to find the Resource Listing\\n1. ARCHIE\\n2. Notes\\n3. Computer graphics FTP site list, by Eric Haines\\n4. Mail servers and graphics-oriented BBSes\\n5. Ray-tracing/graphics-related mailing lists.\\n6.  3D graphics editors\\n   a. Public domain, free and shareware systems\\n   b. Commercial systems\\n7. Scene description languages\\n8. Solids description formats\\n\\nPART2:\\n------\\n\\n9. Plotting packages\\n10. Image analysis software - Image processing and display\\n\\nPART3:\\n------\\n11. Scene generators/geographical data/Maps/Data files\\n12. 3D scanners - Digitized 3D Data.\\n13. Background imagery/textures/datafiles\\n14. Introduction to rendering algorithms\\n   a. Ray tracing\\n   b. Z-buffer (depth-buffer)\\n   c. Others\\n15. Where can I find the geometric data for the:\\n   a. Teapot ?\\n   b. Space Shuttle ?\\n16. Image annotation software\\n17. Scientific visualization stuff\\n18. Molecular visualization stuff\\n19. GIS (Geographical Information Systems software)\\n\\nFuture additions:\\n[Please send me updates/info!]\\n\\n========================================================================\\n\\n0. Places to find the Resource Listing\\n======================================\\n\\nThis file is crossposted to comp.graphics, comp.answers and news.answers,\\nso if you can\\'t locate it in comp.graphics, you\\'re advised to search in\\ncomp.answers or news.answers\\n(The latter groups usually are archived in your site. Contact your sysadmin\\nfor more info).\\n\\nThese 3 articles are posted to comp.graphics 3-4 times a month and are kept in\\nmany places (see below)\\n\\n--\\n\\nMany FAQs, including this one, are available on the archive site\\npit-manager.mit.edu (alias rtfm.mit.edu) [18.172.1.27] in the directory\\npub/usenet/news.answers.  The name under which a FAQ is archived appears\\nin the Archive-name line at the top of the article.\\nThis FAQ is archived as graphics/resources-list/part[1-3]\\n\\nThere\\'s a mail server on that machine. You send a e-mail message to\\nmail-server@pit-manager.mit.edu  containing: help in the Subject: field\\n\\n--\\n\\nThe inria-graphlib mail server mirrors this posting (see under the\\nSubject 4: Mail servers )\\n\\n--\\n\\nThe Resource Listing is accesible through WAIS in the machine\\nenuxva.eas.asu.edu (port 8000) under the name graphics-resources-list.\\nIt\\'s got a digest-type line before every numbered item for purposes of\\nindexing.\\n\\n--\\n\\nAnother place that monitors the Listing is the MaasInfo files.\\nFor more info contact Robert E. Maas <rem@btr.com>\\n\\n--\\n\\nYet another place to search for FAQs in general is the SWITCH\\n(Swiss Academic and Research Network) system in Switzerland:\\n\\ninteractive:\\n  telnet nic.switch.ch [130.59.1.40], login as \"info\". Move to the\\n  info_service/Usenet/periodic-postings directory. Search in the\\n  00index file by typing \"/\" and the word to look for.\\n  You may then just read the FAQ in the \"faqs\" directory, or decide\\n  to fetch it by one of the following methods.\\n\\nftp:\\n  login to nic.switch.ch [130.59.1.40] as user anonymous and\\n  enter your internet-style address after being prompted for a\\n  password.\\n\\n\\tcd info_service/Usenet/periodic-postings\\n\\nmail:\\n  send e-mail to\\n\\nRFC-822:\\n   archive-server@nic.switch.ch\\nX.400:\\n  /S=archive-server/OU=nic/O=switch/PRMD=switch/ADMD=arcom/C=ch/\\n\\nEnter \\'help\\' in the bodypart to receive instructions. No information\\nis required in the subject header line.\\n\\n\\n1. ARCHIE\\n=========\\n\\nThe Archie is a service system to locate FTP places for\\nrequested files. It\\'s appreciated that you will use Archie\\nbefore asking help in the newsgroups.\\n\\nArchie servers:\\n  archie.au or 139.130.4.6             (Aussie/NZ)\\n  archie.funet.fi or 128.214.6.100  (Finland/Eur.)\\n  archie.th-darmstadt.de or 130.83.128.111  (GER.)\\n  cs.huji.ac.il or 132.65.6.5             (Israel)\\n  archie.kuis.kyoto-u.ac.jp or 130.54.20.1 (JAPAN)\\n  archie.sogang.ac.kr or 163.239.1.11      (Korea)\\n  archie.ncu.edu.tw or telnet 140.115.19.24  (TWN)\\n  archie.doc.ic.ac.uk or 146.169.3.7  (UK/Ireland)\\n  archie.sura.net or 128.167.254.179    (USA [MD])\\n  archie.unl.edu (password: archie1)    (USA [NE])\\n  archie.ans.net or 147.225.1.2         (USA [NY])\\n  archie.rutgers.edu or 128.6.18.15     (USA [NJ])\\n  archie.nz or 130.195.9.4           (New Zealand)\\n\\nConnect to Archie server with telnet and type \"archie\" as username.\\nTo get help type \\'help\\'.\\nYou can get \\'xarchie\\' or \\'archie\\', which are clients that call Archie\\nwithout the burden of a telnet session.\\n\\'Xarchie\\' is on the X11.R5 contrib tape, and \\'archie\\' on comp.sources.misc,\\nvol. 27.\\n\\nTo get information on how to use Archie via e-mail, send mail with\\nsubject \"help\" to \"archie\" account at any of above sites.\\n\\n(Note to Janet/PSS users -- the United Kingdom archie site is\\naccessible on the Janet host doc.ic.ac.uk [000005102000].\\nConnect to it and specify \"archie\" as the host name and \"archie\" as\\nthe username.)\\n\\n==========================================================================\\n\\n2. Notes\\n========\\n(Excerpted from the FAQ article)\\n\\nPlease do *not* post or mail messages saying \"I can\\'t FTP, could\\nsomeone mail this to me?\"  There are a number of automated mail servers\\nthat will send you things like this in response to a message.\\n\\nThere are a number of sites that archive the Usenet sources newsgroups\\nand make them available via an email query system.  You send a message\\nto an automated server saying something like \"send comp.sources.unix/fbm\",\\nand a few hours or days later you get the file in the mail.\\n\\n==========================================================================\\n\\n3. Computer graphics FTP site list, by Eric Haines\\n==================================================\\n\\nComputer graphics related FTP sites (and maintainers), 22/04/93\\n\\tcompiled by Eric Haines, erich@eye.com\\n\\tand Nick Fotis, nfotis@theseas.ntua.gr\\n\\nRay-tracers:\\n------------\\n\\nRayShade - a great ray tracer for workstations on up, also for PC, Mac & Amiga.\\nPoV - son and successor to DKB trace, written by Compuservers.\\n\\t(For more questions call Drew Wells --\\n\\t73767.1244@compuserve.com or Dave Buck -- david_buck@carleton.ca)\\nART - ray tracer with a good range of surface types, part of VORT package.\\nDKBtrace - another good ray tracer, from all reports; PCs, Mac II,\\n\\tAmiga, UNIX, VMS (last two with X11 previewer), etc.\\nRTrace - Portugese ray tracer, does bicubic patches, CSG, 3D text, etc. etc.\\n\\tAn MS-DOS version for use with DJGPP DOS extender (GO32) exists also,\\n\\tas a Mac port.\\nVIVID2 - A shareware raytracer for PCs - binary only (286/287).  Author:\\n\\tStephen Coy (coy@ssc-vax.boeing.com).  The 386/387 (no source) version\\n\\tis available to registered users (US$50) direct from the author.\\nRAY4 - Steve Hollasch\\'s 4-dimensional ray tracer - renders hyperspheres,\\n\\thypertetrahedra, hyperplanes, and hyperparallelepipeds (there\\'s\\n\\ta separate real-time wireframe viewer written in GL called WIRE4 ) .\\nMTV,QRT,DBW - yet more ray tracers, some with interesting features.\\n\\nDistributed/Parallel Raytracers:\\n--------------------------------\\n\\nXDART - A distributed ray-tracer that runs under X11. There are server binaries\\n\\twhich work only on DECstations, SPARCs, HP Snakes (7x0 series) and NeXT.\\n\\tThe clients are distributed as binaries and C source.\\nInetray - A network version of Rayshade 4.0.  Needs Sun RPC 4.0 or newer.\\n\\tContact Andreas Thurnherr (ant@ips.id.ethz.ch)\\nprt, VM_pRAY - parallel ray tracers.\\n\\nVolume renderers:\\n-----------------\\n\\nVREND - Cornell\\'s Volume Renderer, from Kartch/Devine/Caffey/Warren (FORTRAN).\\n\\nRadiosity (and diffuse lighting) renderers:\\n-------------------------------------------\\n\\nRadiance - a ray tracer w/radiosity effects, by Greg Ward.  Excellent shading\\n\\tmodels and physically based lighting simulation.  Unix/X based, though\\n\\thas been ported to the Amiga and the PC (386).\\nINDIA - An Indian radiosity package based on Radiance.\\nSGI_RAD - An interactive radiosity package that runs on SGI machines with a\\n\\tSpaceball. It includes a house database.\\n\\tAuthor: Guy Moreillon <moreillo@ligsg1.epfl.ch>\\nRAD - a simple public-domain radiosity package in C. The solution can be run\\n\\tstand-alone on any Unix box, but the walk-through requires a SGI 4D.\\n\\tAuthor: Bernard Kwok <g-kwok@cs.yorku.ca>\\n\\nRenderers which are not raytracers, and graphics libraries:\\n-----------------------------------------------------------\\n\\nSIPP - Scan line z-buffer and Phong shading renderer.\\n\\tNow uses the shadow buffer algorithm.\\nTcl-SIPP - a Tcl command interface to the SIPP rendering\\n\\tprogram. Tcl-SIPP is a set of Tcl commands used to programmed\\n\\tSIPP without having to write and compile C code.\\n\\tCommands are used to specify surfaces, objects,\\n\\tscenes and rendering options.\\n\\tIt renders either in PPM format or in Utah Raster Toolkit RLE format\\n\\tor to the photo widget in the Tk-based X11 applications.\\n\\nVOGLE - graphics learning environment (device portable).\\nVOGL - an SGI GL-like library based on VOGLE.\\nREND386 - A *fast* polygon renderer for Intel 386s and up. Version 2 on up.\\n\\t[ It\\'s not photorealistic, but rather a real-time renderer]\\nXSHARP21 - Dr. Dobb\\'s Journal PC renderer source code, with budget texture\\n\\tmapping.\\n\\nModellers, wireframe viewers:\\n-----------------------------\\n\\nVISION-3D - Mac modeler, can output Radiance & Rayshade files.\\nIRIT - A CSG solid modeler, with support for freeform surfaces.\\nX3D - A wireframe viewer for X11.\\n3DV - 3-D wireframe graphics toolkit, with C source, 3dv objects, other stuff\\n\\tLook at major PC archives like wuarchive. One such file is 3DKIT1.ZIP\\nPV3D - a shareware front end modeler for POVRAY, still in beta test.\\n  French docs for now, price for registering 250 French Francs. Save disabled.\\n  Some extra utilities, DXF files for the registered version.\\n\\nGeometric viewers:\\n------------------\\n\\nSALEM - A GL-based package from Dobkin et al. for exploring mathematical\\n\\tstructures.\\nGEOMVIEW - A GL-based package for looking and interactively manipulating\\n3D objects, from Geometry Center at Minnesota.\\nXYZ GeoBench -(eXperimental geometrY Zurich) is a workbench for geometric\\n\\tcomputation for Macintosh computers.\\nWIRE4 - GL wireframe previewer for Steve Hollasch\\'s RAY4 (see above)\\n\\nData Formats and Data Sets for Ray Tracing:\\n-------------------------------------------\\n\\nSPD - a set of procedural databases for testing ray tracers.\\nNFF - simplistic file format used by SPD.\\nOFF - another file format.\\nP3D - a lispy file format.\\nTDDD - Imagine (3D modeler) format, has converters for RayShade, NFF, OFF, etc.\\n\\tAlso includes a nice postscript object displayer.  Some GREAT models.\\nTTDDDLIB - converts to/from TDDD/TTDDD, OFF, NFF, Rayshade 4.0, Imagine,\\n\\tand vort 3d objects. Also outputs Framemaker MIF files and isometric\\n\\tviews in Postscript. Registered users get a TeX PK font converter and\\n\\ta superquadric surfaces generator.\\n\\tGlenn Lewis <glewis@pcocd2.intel.com>\\n\\t[Note : TTDDDLIB is also known as T3DLIB]\\nCHVRTD - Chapel Hill Volume Rendering Test Datasets, includes volume sets for\\n\\ttwo heads, a brain, a knee, electron density maps for RNA and others.\\n\\nWritten Material on Rendering:\\n------------------------------\\n\\nRT News - collections of articles on ray tracing.\\nRT bib - references to articles on ray tracing in \"refer\" format.\\nRad bib - references to articles on radiosity (global illumination).\\nSpeer RT bib - Rick Speer\\'s cross-referenced RT bib, in postscript.\\nRT abstracts - collection by Tom Wilson of abstracts of many RT articles.\\nPaper bank project - various technical papers in electronic form.  Contact\\n\\tJuhana Kouhia <jk87377@cs.tut.fi>\\nOnline Bibliography Project :\\n        The ACM SIGGRAPH Online Bibliography Project is a database of \\n        over 15,000 unique computer graphics and computational geometry\\n        references in BibTeX format, available to the computer graphics\\n        community as a research and educational resource.\\n\\n        The database is located at \"siggraph.org\".  Users may download \\n        the BibTeX files via FTP and peruse them offline, or telnet to\\n        \"siggraph.org\" and log in as \"biblio\" and interactively search\\n        the database for entries of interest, by keyword.\\n        For the people without Internet access, there\\'s also an e-mail\\n        server. Send mail to\\n\\n        archive-server@siggraph.org\\n\\n        and in the subject or the body of the message include the message  send\\n        followed by the topic and subtopic you wish. A good place to start is\\n        with the command\\n             send index\\n        which will give you an up-to-date list of available information.\\n\\n        Additions/corrections/suggestions may be directed to the admin,\\n        \"bibadmin@siggraph.org\".\\n\\nImage Manipulation Libraries:\\n-----------------------------\\n\\nUtah Raster Toolkit - nice image manipulation tools.\\nPBMPLUS - a great package for image conversion and manipulation.\\nLIBTIFF - library for reading/writing TIFF images.\\nImageMagick - X11 package for display and interactive manipulation\\n\\tof images.  Uses its own format (MIFF), and includes some converters.\\nxv - X-based image display, manipulation, and format converter.\\nxloadimage, xli - displays various formats on an X11 screen.\\nKhoros - a huge, excellent system for image processing, with a visual\\n\\tprogramming interface and much much more.  Uses X windows.\\nFBM - another set of image manipulation tools, somewhat old now.\\nImg - image manipulation, displays on X11 screen, a bit old now.\\nxflick - Plays .FLI animation under X11\\nXAnim - plays any resolution FLI along with GIF\\'s(including GIF89a animation\\n\\textensions), DL\\'s and Amiga IFF animations(3,5,J,l) and IFF\\n\\tpictures(including HAM,EHB and color cycling)\\nSDSC - SDSC Image Tools package (San Diego Supercomputing Center)\\n\\tfor image manipulation and conversion\\nCLRpaint - A 24-bit paint program for SGI 24bit workstations and 8bit Indigos.\\n\\nLibraries with code for graphics:\\n---------------------------------\\n\\nGraphics Gems I,II,III - code from the ever so useful books.\\nspline-patch.tar.Z - spline patch ray intersection routines by Sean Graves\\nkaleido - Computation and 3D Display of Uniform Polyhedra. Mirrored in\\n\\twuarchive. This package computes (and displays) the metrical\\n\\tproperties of 75 polyhedra. Author: Dr. Zvi Har\\'El,\\n\\te-mail: rl@gauss.technion.ac.il\\n\\n(*) means site is an \"official\" distributor, so is most up to date.\\n\\n\\nNORTH AMERICA (please look for things on your own continent first...):\\n-------------\\n\\nwuarchive.wustl.edu [128.252.135.4]:  /graphics/graphics - get CONTENTS file\\n\\tfor a roadmap.  /graphics/graphics/objects/TDDD - *the TTDDD objects\\n\\tand converters*, /mirrors/unix-c/graphics - Rayshade ray tracer, MTV\\n\\tray tracer, Vort ray tracer, FBM, PBMPLUS, popi, Utah raster toolkit.\\n\\t/mirrors/msdos/graphics - DKB ray tracer, FLI RayTracker demos.\\n\\t/pub/rad.tar.Z - *SGI_RAD*, /graphics/graphics/radiosity - Radiance\\n\\tand Indian radiosity package.  /msdos/ddjmag/ddj9209.zip - version 21\\n\\tof Xsharp, with fast texture mapping.  There\\'s lots more, including\\n\\tbibs, Graphics Gems I & II code, OFF, RTN, Radiance, NFF, SIPP, spline\\n\\tpatch intersection routines, textbook errata, source code from Roy\\n\\tHall\\'s book \"Illumination and Color in Computer Generated Imagery\", etc\\n\\tgraphics/graphics/packages/kaleido - *kaleido*\\n\\tGeorge Kyriazis <kyriazis@turing.cs.rpi.edu>\\n\\nprinceton.edu [128.112.128.1]:  /pub/Graphics (note capital \"G\") - *Rayshade\\n\\t4.0 ray tracer (and separate 387 executable)*, *color quantization\\n\\tcode*, *SPD*, *RT News*, *Wilson\\'s RT abstracts*, \"RT bib*, *Utah\\n\\tRaster Toolkit*, newer FBM, *Graphics Gems I, II & III code*.\\n\\t/pub/graphics directory - *SALEM* and other stuff.\\n\\tCraig Kolb <cek@princeton.edu>\\n\\t[replaces weedeater.math.yale.edu - note the capital \"G\" in\\n\\tpub/Graphics] Because there\\'s a trouble with princeton\\'s incoming\\n\\tarea, you can upload Rayshade-specific stuff to\\n\\tweedeater.math.yale.edu [128.36.23.17]\\n\\nalfred.ccs.carleton.ca [134.117.1.1]:  /pub/dkbtrace - *DKB ray tracer*,\\n\\t/pub/pov-ray/POV-Ray1.0 - *PVRay Compuserve group ray tracer (or PoV)*.\\n\\tDavid Buck <david_buck@carleton.ca>\\n\\navalon.chinalake.navy.mil [129.131.31.11]:  3D objects (multiple formats),\\n\\tutilities, file format documents.\\n\\tThis site was created to be a 3D object \"repository\" for the net.\\n\\tFrancisco X DeJesus <dejesus@archimedes.chinalake.navy.mil>\\n\\nomicron.cs.unc.edu [152.2.128.159]:  pub/softlab/CHVRTD - Chapel Hill\\n\\tVolume Rendering Test Datasets.\\n\\nftp.mv.com [192.80.84.1]: - Official DDJ FTP repository.\\n\\t*XSHARP*\\n\\npeipa.essex.ac.uk [155.245.115.161]: the Pilot European Image Processing\\n\\tArchive; in a directory ipa/synth or something like that, there are\\n\\timage synthesis packages.\\n\\tAdrian Clarke <alien@essex.ac.uk>\\n\\nbarkley.berkeley.edu [128.32.142.237] : tcl/extensions/tsipp3.0b.tar.Z -\\n\\t*Tcl-SIPP*\\n\\tMark Diekhans <markd@grizzly.com or markd@NeoSoft.com>\\n\\nacs.cps.msu.edu [35.8.56.90]: pub/sass - *X window fonts converter into\\n\\tRayshade 3.0 polygons*, Rayshade animation tool(s).\\n\\tRon Sass <sass@cps.msu.edu>\\n\\nhobbes.lbl.gov [128.3.12.38]: *Radiance* ray trace/radiosity package.\\n\\tGreg Ward <gjward@lbl.gov>\\n\\ngeom.umn.edu [128.101.25.31] : pub/geomview - *GEOMVIEW*\\n\\tContact (for GEOMVIEW): software@geom.umn.edu\\n\\nftp.arc.umn.edu [137.66.130.11] : pub/gvl.tar.Z - the latest version of Bob,\\n\\tIcol and Raz.  Source, a manual, man pages, and binaries for\\n\\tIRIX 4.0.5 are included (Bob is a real time volume renderer)\\n\\tpub/  contains also many volume datasets.\\n\\tKen Chin-Purcell <ken@ahpcrc.umn.edu>\\n\\nftp.kpc.com [144.52.120.9] : /pub/graphics/holl91 - Steve Hollasch\\'s\\n\\tThesis, /pub/graphics/ray4 - *RAY4*, /pub/graphics/wire4 - *WIRE4*.\\n\\t/pub/mirror/avalon - mirror of avalon\\'s 3D objects repository.\\n\\tSteve Hollasch <hollasch@kpc.com>\\n\\nswedishchef.lerc.nasa.gov [139.88.54.33] : programs/hollasch-4d - RAY4,\\n\\tSGI Explorer modules and Postscript manual, etc.\\n\\nzamenhof.cs.rice.edu [128.42.1.75] : pub/graphics.formats - Various electronic\\n\\tdocuments about many object and image formats.\\n\\tMark Hall <foo@cs.rice.edu>\\n\\twill apparently no longer be maintaining it, see ftp.ncsa.uiuc.edu.\\n\\nrascal.ics.utexas.edu [128.83.144.1]:  /misc/mac/inqueue - VISION-3D facet\\n\\tbased modeller, can output RayShade and Radiance files.\\n\\nftp.ncsa.uiuc.edu [141.142.20.50] :  misc/file.formats/graphics.formats -\\n\\tcontains various image- and object-format descriptions.  Many SciVi\\n\\ttools in various directories, e.g.  SGI/Alpha-shape/Alvis-1.0.tar.Z -\\n\\t3D alpha-shape visualizer (SGI machines only),\\n\\tSGI/Polyview3.0/polyview.Z - interactive visualization and analysis of\\n\\t3D geometrical structures.\\n\\tQuincey Koziol <koziol@ncsa.uiuc.edu>\\n\\ntucana.noao.edu [140.252.1.1] : /iraf - the IRAF astronomy package\\n\\nftp.ipl.rpi.edu [128.113.14.50]:  sigma/erich - SPD images and Haines thesis\\n\\timages.  pub/images - various 24 and 8 bit image stills and sequences.\\n\\tKevin Martin <sigma@ipl.rpi.edu>\\n\\nftp.psc.edu [128.182.66.148]:  pub/p3d - p3d_2_0.tar P3D lispy scene\\n\\tlanguage & renderers.  Joel Welling <welling@seurat.psc.edu>\\n\\nftp.ee.lbl.gov [128.3.254.68]: *pbmplus.tar.Z*, RayShade data files.\\n\\tJef Poskanzer <jef@ace.ee.lbl.gov>\\n\\ngeorge.lbl.gov [128.3.196.93]: pub/ccs-lib/ccs.tar.Z - *CCS (Complex\\n\\tConversion System), a standard software interface for image processing*\\n\\nhanauma.stanford.edu [36.51.0.16]: /pub/graphics/Comp.graphics - best of\\n\\tcomp.graphics (very extensive), ray-tracers - DBW, MTV, QRT, and more.\\n\\tJoe Dellinger <joe@hanauma.stanford.edu>\\n\\nftp.uu.net [192.48.96.2]:  /graphics - *IRIT*, RT News back issues (not\\n\\tcomplete), NURBS models, other graphics related material.\\n\\t/graphics/jpeg/jpegsrc.v?.tar.Z - Independent JPEG Group package for\\n\\treading and writing JPEG files.\\n\\nfreebie.engin.umich.edu [141.212.68.23]:  *Utah Raster Toolkit*,\\n\\tSpencer Thomas <thomas@eecs.umich.edu>\\n\\nexport.lcs.mit.edu [18.24.0.12] : /contrib - pbmplus, Image Magick, xloadimage,\\n\\txli, xv, Img, lots more.  /pub/R5untarred/mit/demos/gpc - NCGA Graphics\\n\\tPerformance Characterization (GPC) Suite.\\n\\nlife.pawl.rpi.edu [128.113.10.2]: /pub/ray - *Kyriazis stochastic Ray Tracer*.\\n\\tGeorge Kyriazis <kyriazis@turing.cs.rpi.edu>\\n\\ncs.utah.edu [128.110.4.21]: /pub - Utah raster toolkit, *NURBS databases*.\\n\\tJamie Painter <jamie@cs.utah.edu>\\n\\ngatekeeper.dec.com [16.1.0.2]:  /pub/DEC/off.tar.Z - *OFF models*,\\n\\tAlso GPC Benchmark files (planned, but not checked).\\n\\tRandi Rost <rost@kpc.com>\\n\\nhubcap.clemson.edu [130.127.8.1]:  /pub/amiga/incoming/imagine - stuff for the\\n\\tAmiga Imagine & Turbo Silver ray tracers.  /pub/amiga/TTDDDLIB -\\n\\t*TTDDDLIB* /pub/amiga/incoming/imagine/objects - MANY objects.\\n\\tGlenn Lewis <glewis@pcocd2.intel.com>\\n\\npprg.eece.unm.edu [129.24.24.10]:  /pub/khoros - *Khoros image processing\\n\\tpackage (huge, but great)*.\\n\\tDanielle Argiro <danielle@bullwinkle.unm.edu>\\n\\nexpo.lcs.mit.edu [18.30.0.212]:  contrib - *PBMPLUS portable bitmap package*,\\n\\t*poskbitmaptars bitmap collection*, *Raveling Img*, xloadimage.  Jef\\n\\tPoskanzer <jef@well.sf.ca.us>\\n\\nvenera.isi.edu [128.9.0.32]:  */pub/Img.tar.z and img.tar.z - some image\\n\\tmanipulation*, /pub/images - RGB separation photos.\\n\\tPaul Raveling <raveling@venera.isi.edu>\\n\\nucsd.edu [128.54.16.1]:  /graphics - utah rle toolkit, pbmplus, fbm,\\n\\tdatabases, MTV, DBW and other ray tracers, world map, other stuff.\\n\\tNot updated much recently.\\n\\ncastlab.engr.wisc.edu [128.104.52.10]:  /pub/x3d.2.2.tar.Z - *X3D*\\n\\t/pub/xdart.1.1.* - *XDART*\\n\\tMark Spychalla <spy@castlab.engr.wisc.edu>\\n\\nsgi.com [192.48.153.1]:  /graphics/tiff - TIFF 6.0 spec & *LIBTIFF* software\\n\\tand pics.  Also much SGI- and GL-related stuff (e.g. OpenGL manuals)\\n\\tSam Leffler <sam@sgi.com>\\n\\t[supercedes okeeffe.berkeley.edu for the LIBTIFF stuff]\\n\\nsurya.waterloo.edu [129.97.129.72]: /graphics - FBM, ray tracers\\n\\nftp.sdsc.edu [132.249.20.22]: /sdscpub - *SDSC*\\n\\nftp.brl.mil [128.63.16.158]: /brl-cad - information on how to get the\\n\\tBRL CAD package & ray tracer.  /images - various test images.\\n\\tA texture library has also begun here.\\n\\tLee A. Butler <butler@BRL.MIL>\\n\\ncicero.cs.umass.edu [128.119.40.189]:  /texture_temp - 512x512 grayscale\\n\\tBrodatz textures,\\n\\tfrom Julien Flack <julien@scs.leeds.ac.uk>.\\n\\nkarazm.math.uh.edu [129.7.7.6]:  pub/Graphics/rtabs.shar.12.90.Z - *Wilson\\'s\\n\\tRT abstracts*, VM_pRAY.\\n\\tJ. Eric Townsend <jet@karazm.math.uh.edu or jet@nas.nasa.gov>\\n\\nftp.pitt.edu [130.49.253.1]:  /users/qralston/images - 24 bit image archive\\n\\t(small).  James Ralston Crawford <qralston@gl.pitt.edu>\\n\\nftp.tc.cornell.edu [128.84.201.1]: /pub/vis - *VREND*\\n\\nsunee.waterloo.edu [129.97.50.50]: /pub/raytracers - vivid, *REND386*\\n\\t[or sunee.uwaterloo.ca]\\n\\narchive.umich.edu [141.211.164.153]: /msdos/graphics - PC graphics stuff.\\n\\t/msdos/graphics/raytrace - VIVID2.\\n\\napple.apple.com [130.43.2.2?]:  /pub/ArchiveVol2/prt.\\n\\nresearch.att.com [192.20.225.2]: /netlib/graphics - *SPD package*, ~/polyhedra -\\n\\t*polyhedra databases*.  (If you don\\'t have FTP, use the netlib\\n\\tautomatic mail replier:  UUCP - research!netlib, Internet -\\n\\tnetlib@ornl.gov.  Send one line message \"send index\" for more info,\\n\\t\"send haines from graphics\" to get the SPD)\\n\\nsiggraph.org [128.248.245.250]: SIGGRAPH archive site.\\n\\tpublications - *Online Bibliography Project*, Conference proceedings\\n\\tin various electronic formats (papers, panels), SIGGRAPH Video Review\\n\\tinformation and order forms.\\n\\tOther stuff in various directories.\\n\\tAutomatic mailer is archive-server@siggraph.org (\"send index\").\\n\\nftp.cs.unc.edu [128.109.136.159]: pub/reaction_diffusion - Greg Turk\\'s work on\\n\\treaction-diffusion textures, X windows code (SIGGRAPH \\'91)\\n\\navs.ncsc.org [128.109.178.23]:  ~ftp/VolVis92 - Volume datasets from the\\n\\tBoston Workshop on Volume Visualization \\'92.  This site is also the\\n\\tInternational AVS Center.\\n\\tTerry Myerson <tvv@ncsc.org>\\n\\nuvacs.cs.virginia.edu [128.143.8.100]:  pub/suit/demo/{sparc,dec,etc} - SUIT\\n\\t(Simple User Interface Toolkit).  \"finger suit@uvacs.cs.virginia.edu\"\\n\\tto get detailed instructions.\\n\\nnexus.yorku.ca [130.63.9.66]: /pub/reports/Radiosity_code.tar.Z - *RAD*\\n\\t/pub/reports/Radiosity_thesis.ps.Z - *RAD MSc. Thesis*\\n\\t[This site will be changed to ftp.yorku.ca in the near future]\\n\\nmilton.u.washington.edu [128.95.136.1] - ~ftp/public/veos - VEOS Virtual\\n\\tReality and distributed applications prototyping environment\\n\\tfor Unix. Veos Software Support : veos-support@hitl.washington.edu\\n        oldpublic/fly - FLY! 3D Visualization Software demo.\\n        That package is built for \"fly-throughs\" from various datasets in\\n        near real-time. There are binaries for many platforms.\\n\\tAlso, much other Virtual Reality stuff.\\n\\nzug.csmil.umich.edu [141.211.184.2]: X-Xpecs 3D files (an LCD glass shutter\\n\\tfor Amiga computers - great for VR stuff!)\\n\\nsugrfx.acs.syr.edu [128.230.24.1]: Various stereo-pair images.\\n[ Has closed down :-( ]\\n\\nsunsite.unc.edu [152.2.22.81]: /pub/academic/computer-science/virtual-reality -\\n\\tFinal copy of the sugrfx.acs.syr.edu archive that ceased to exist.\\n\\tIt contains Powerglove code, VR papers, 3D images and IRC research\\n\\tmaterial.\\n\\tJonathan Magid <jem@sunSITE.unc.edu>\\n\\narchive.cis.ohio-state.edu [128.146.8.52]: pub/siggraph92 - Code for\\n\\tSiggraph \\'92 Course 23 (Procedural Modeling and Rendering Techniques)\\n\\tDr. David S. Ebert <ebert@cis.ohio-state.edu>\\n\\nlyapunov.ucsd.edu [132.239.86.10]: This machine is considered the\\n\\trepository for preprints and programs for nonlinear dynamics,\\n\\tsignal processing, and related subjects  (and fractals, of course!)\\n\\tMatt Kennel <mbk@inls1.ucsd.edu>\\n\\ncod.nosc.mil [128.49.16.5]: /pub/grid.{ps,tex,ascii} - a short survey of\\n\\tmethods to interpolate and contour bivariate data\\n\\nics.uci.edu [128.195.1.1]: /honig --- Various stereo-pair images,\\n\\tmovie.c - animates a movie on an X display (8-bit and mono) with\\n\\tdigital subtraction.\\n\\ntaurus.cs.nps.navy.mil [131.120.1.13]: pub/dabro/cyberware_demo.tar.Z - Human\\n\\thead data\\n\\npioneer.unm.edu [129.24.9.217]:  pub/texture_maps - Hans du Buf\\'s grayscale\\n\\ttest textures (aerial swatches, Brodatz textures, synthetic swatches).\\n\\tSpace & planetary image repository.  Provides access to >150 CD-ROMS\\n\\twith data/images (3 on-line at a time).\\n        pub/info/beginner-info - here you should start browsing.\\n        Colby Kraybill <opus@pioneer.unm.edu>.\\n\\ncs.brown.edu [128.148.33.66] : *SRGP/SPHIGS* . For more info on SRGP/SPHIGS:\\n         mail -s \\'software-distribution\\' graphtext@cs.brown.edu\\n\\npdb.pdb.bnl.gov [130.199.144.1] has data about various organic molecules,\\n       bonds between the different atoms, etc.\\n       Atomic coordinates (and a load of other stuff) are contained in the\\n       \"*.ent\" files, but the actual atomic dimemsions seem to be missing.\\n       You could convert these data to PoV, rayshade, etc.\\n\\nbiome.bio.ns.ca [142.2.20.2] : /pub/art - some Renoir paintings,\\n        Escher\\'s pictures, etc.\\n\\nic16.ee.umanitoba.ca [] : /specmark - sample set of images from the\\n        `Images from the Edge\\' CD-ROM (images of atomic landscapes, advanced\\n        semiconductors, superconductors and experimental surface\\n        chemistry among others). Contact ruskin@ee.umanitoba.ca\\n\\nexplorer.dgp.toronto.edu [128.100.1.129] : pub/sgi/clrpaint - *CLRpaint*\\n        pub/sgi/clrview.* - CLRview, a tool that aids in visualization\\n        of GIS datasets in may formats like DXF, DEM, Arc/Info, etc.\\n\\names.arc.nasa.gov [128.102.18.3]: pub/SPACE/CDROM - images from Magellan\\n        and Viking missions etc. Get pub/SPACE/Index first.\\n        pub/SPACELINK has most of the SpaceLink service data (see below)\\n        e-mail server available: send mail to archive-server@ames.arc.nasa.gov\\n        (or ames!archive-server) with subject:\"help\"\\n        or \"send SPACE Index\" (without the quotes!)\\n        Peter Yee <yee@ames.arc.nasa.gov>\\n\\npubinfo.jpl.nasa.gov [128.149.6.2]: images, other data, etc. from JPL\\n        missions. Modem access at (818)-354-1333 (no parity, 8 data bits, 1\\n        stop bit).\\n        newsdesk@jplpost.jpl.nasa.gov or phone (818)-354-7170\\n\\nspacelink.msfc.nasa.gov [128.158.13.250] (passwd:guest) : space graphics\\n        and GIF images from NASA\\'s planetary probes and the Hubble Telescope.\\n        Main function is support for teachers (you can telnet also to this\\n        site). Dial up access: (205)-895-0028 (300/1200/2400/9600(V.32) baud,\\n        8 bits, no parity, 1 stop bit).\\n\\nstsci.edu [130.167.1.2] : Hubble Space Telescope stuff (images and other\\n        data). Read the README first!\\n        Pete Reppert <reppert@stsci.edu> or Chris O\\'Dea <odea@stsci.edu>\\n\\npit-manager.mit.edu [18.172.1.27]:  /pub/usenet/news.answers - the land of\\n\\tFAQs.  graphics and pictures directories of particular interest.\\n\\t[Also available from mail-server@pit-manager.mit.edu by sending a mail\\n\\tmessage containing: help]\\n\\nUUCP archive: avatar - RT News back issues.  For details, write Kory Hamzeh\\n\\t<kory@avatar.avatar.com>\\n\\n\\nEUROPE:\\n-------\\n\\nnic.funet.fi [128.214.6.100]:  *pub/sci/papers - *Paper bank project,\\n\\tincluding Pete Shirley\\'s entire thesis (with pics)*, *Wilson\\'s RT\\n\\tabstracts*, pub/misc/CIA_WorldMap - CIA world data bank,\\n\\tcomp.graphics.research archive, *India*, and much, much more.\\n\\tJuhana Kouhia <jk87377@cs.tut.fi>\\n\\ndasun2.epfl.ch [128.178.62.2]:  Radiance. Good for European sites, but\\n\\tdoesn\\'t carry the add-ons that are available for Radiance.\\n\\nisy.liu.se [130.236.1.3]:  pub/sipp/sipp-3.0.tar.Z - *SIPP* scan line z-buffer\\n\\tand Phong shading renderer.  Jonas Yngvesson <jonas-y@isy.liu.se>\\n\\nirisa.fr [131.254.2.3]:  */iPSC2/VM_pRAY ray tracer*, SPD, /NFF - many non-SPD\\n\\tNFF format scenes, RayShade data files.  Didier Badouel\\n\\t<badouel@irisa.irisa.fr> [may have disappeared]\\n\\nphoenix.oulu.fi [130.231.240.17]:  *FLI RayTracker animation files (PC VGA) -\\n\\talso big .FLIs (640*480)* *RayScene demos* [Americans:  check wuarchive\\n\\tfirst].  More animations to come.  Jari Kahkonen\\n\\t<hole@phoenix.oulu.fi>\\n\\njyu.fi [128.214.7.5]: /pub/graphics/ray-traces - many ray tracers, including\\n\\tVM_pRAY, DBW, DKB, MTV, QRT, RayShade, some RT News, NFF files.  Jari\\n\\tToivanen <toivanen@jyu.fi>\\n\\ngarbo.uwasa.fi [128.214.87.1]:  Much PC stuff, etc., /pc/source/contour.f -\\n\\tFORTRAN program to contour scattered data using linear triangle-based\\n\\tinterpolation\\n\\nasterix.inescn.pt [192.35.246.17]:  pub/RTrace - *RTrace* nffutils.tar.Z (NFF\\n\\tutilities for RTrace), medical data (CAT, etc.)  converters to NFF,\\n\\tAutocad to NFF Autolisp code, AUTOCAD 11 to SCN (RTrace\\'s language)\\n\\tconverter and other goodies.  Antonio Costa (acc@asterix.inescn.pt)\\n\\nvega.hut.fi [128.214.3.82]: /graphics - RTN archive, ray tracers (MTV, QRT,\\n\\tothers), NFF, some models.\\n[ It was shut down months ago , check under nic.funet.fi -- nfotis ]\\n\\nsun4nl.nluug.nl [192.16.202.2]: /pub/graphics/raytrace - DBW.microray, MTV, etc\\n\\nunix.hensa.ac.uk [] : misc/unix/ralcgm/ralcgm.tar.Z - CGM viewer and\\n        converter.\\n        There\\'s an e-mail server also - mail to archive@unix.hensa.ac.uk\\n        with the message body \"send misc/unix/ralcgm/ralcgm.tar.Z\"\\n\\nmaeglin.mt.luth.se [130.240.0.25]:  graphics/raytracing - prt, others, ~/Doc -\\n\\t*Wilson\\'s RT abstracts*, Vivid.\\n\\nftp.fu-berlin.de [130.20.225.2]:  /pub/unix/graphics/rayshade4.0/inputs -\\n\\taq.tar.Z is RayShade aquarium [Americans:  check princeton.edu first).\\n\\tHeiko Schlichting <heiko@math.fu-berlin.de>\\n\\nmaggia.ethz.ch [129.132.17.1]: pub/inetray - *Inetray* and Sun RPC 4.0 code\\n\\tAndreas Thurnherr <ant@ips.id.ethz.ch>\\n\\nosgiliath.id.dth.dk [129.142.65.24]:  /pub/amiga/graphics/Radiance - *Amiga\\n\\tport of Radiance 2.0*.  Per Bojsen <bojsen@ithil.id.dth.dk>\\n\\nftp.informatik.uni-oldenburg.de [134.106.1.9] : *PoV raytracer*\\n        Mirrored in wuarchive, has many goods for PoV.\\n\\tpub/dkbtrace/incoming/polyray - Polyray raytracer\\n        pub/dkbtrace/incoming/pv3d* - *PV3D*\\n\\nftp.uni-kl.de [131.246.9.95]: /pub/amiga/raytracing/imagine - mirror of\\n\\tthe hubcap Imagine files.\\n\\nneptune.inf.ethz.ch [129.132.101.33]: XYZ - *XYZ GeoBench*\\n\\tPeter Schorn <schorn@inf.ethz.ch>\\n\\niamsun.unibe.ch [130.92.64.10]: /Graphics/graphtal* - a L-system interpreter.\\n\\tChristoph Streit <streit@iam.unibe.ch>\\n\\namiga.physik.unizh.ch [130.60.80.80]: /amiga/gfx - Graphics stuff\\n\\tfor the Amiga computer.\\n\\nstesis.hq.eso.org [134.171.8.100]: on-line access to a huge astronomical\\n        database. (login:starcat;no passwd)\\n        DECnet:STESIS (It\\'s the Space Telescope European Coordination Facility)\\n        Benoit Pirenne <bpirenne@eso.org>, phone +49 89 320 06 433\\n\\n\\nMIDDLE EAST\\n-----------\\n\\ngauss.technion.ac.il [132.68.112.60]: *kaleida*\\n\\n\\nAUSTRALIA:\\n----------\\n\\ngondwana.ecr.mu.oz.au [128.250.70.62]: pub - *VORT(ART) ray tracer*, *VOGLE*,\\n\\tWilson\\'s ray tracing abstracts, /pub/contrib/artscenes (ART scenes from\\n\\tItaly), pub/images/haines - Haines thesis images, Graphics Gems code,\\n\\tSPD, NFF & OFF databases, NFF and OFF previewers, plus some 8- and\\n\\t24bit images and lots of other stuff.  pub/rad.tar.Z - *SGI_RAD*\\n\\tBernie Kirby <bernie@ecr.mu.oz.au>\\n\\nmunnari.oz.au [128.250.1.21]:  pub/graphics/vort.tar.Z - *VORT (ART) 2.1 CSG and\\n\\talgebraic surface ray tracer*, *VOGLE*, /pub - DBW, pbmplus.  /graphics\\n\\t- room.tar.Z (ART scenes from Italy).\\n\\tDavid Hook <dgh@munnari.oz.au>\\n\\nmarsh.cs.curtin.edu.au [134.7.1.1]: pub/graphics/bibliography/Facial_Animation,\\n\\tpub/graphics/bibliography/Morph, pub/graphics/bibliography/UI -\\n\\tstuff about Facial animation, Morphing and User Interfaces.\\n\\tpub/fascia - Fred Parke\\'s fascia program.\\n\\tValerie Hall <val@lillee.cs.curtin.edu.au>\\n\\n\\nOCEANIA - ASIA:\\n---------------\\n\\n#ccu1.auckland.ac.nz [130.216.3.1]:  ftp/mac/architec - *VISION-3D facet\\n\\tbased modeller, can output RayShade files*.  Many other neat things\\n#\\tfor Macs.  Paul Bourke <pdbourke@ccu1.auckland.ac.nz>\\n+[ For users outside NZ - go to wuarchive.wustl.edu, directory\\n+  /mirrors/architec ]\\n\\nscslwide.sony.co.jp [133.138.199.1]:  ftp2/SGI/Facial-Animation - Steve Franks\\n\\tsite for facial animation.\\n \\tSteve Franks <stevef@csl.sony.co.jp OR stevef@cs.umr.edu>\\n\\n\\n4. Mail servers and graphics-oriented BBSes\\n===========================================\\n\\nPlease check first with the FTP places above, with archie\\'s help.\\nDon\\'t overuse mail servers.\\n\\nThere are some troubles with wrong return addresses. Many of these\\nmail servers have a command like\\n   path a_valid_return_e-mail_address\\nto get a hint for sending back to you stuff.\\n\\nDEC\\'s FTPMAIL\\n-------------\\n  Send a one-line message to ftpmail@decwrl.dec.com WITHOUT a Subject: field,\\n  and having a line containing the word \\'help\\'.\\n  You should get back a message detailing the relevant procedures you\\n  must follow in order to get the files you want.\\n\\n  Note that the \"reply\" or \"answer\" command in your mailer will not work\\n  for this message or any other mail you receive from FTPMAIL.  To send\\n  requests to FTPMAIL, send an original mail message, not a reply.\\n  Complaints should be sent to the ftpmail-request@uucp-gw-2.pa.dec.com\\n  address rather than to postmaster, since DECWRL\\'s postmaster is not\\n  responsible for fixing ftpmail problems.\\n\\nBITFTP\\n------\\n  For BITNET sites ONLY, there\\'s BITFTP@PUCC.\\n  Send a one-line \\'help\\' message to this address for more info.\\n\\n\\n+RED\\n+---\\n+  RED - Listserv Redirector is essentially a mail server.\\n+  The Server Sites that are available are:\\n+\\n+  Location        EARN/BITNET          Internet\\n+  --------------  ----------------     -------------------\\n+  In Turkey:      TRICKLE@TREARN       TRICKLE@EGE.EDU.TR\\n+  In Denmark:     TRICKLE@DKTC11\\n+  In Italy:       TRICKLE@IMIPOLI\\n+  In Belgium:     TRICKLE@BANUFS11     TRICKLE@UFSIA.AC.BE\\n+  In Austria:     TRICKLE@AWIWUW11\\n+  In Germany:     TRICKLE@DS0RUS1I     TRICKLE@RUSVM1.RUS.UNI-STUTTGART.DE\\n+  In Israel:      TRICKLE@TAUNIVM      TRICKLE@VM.TAU.AC.IL\\n+  In Netherlands: TRICKLE@HEARN        TRICKLE@HEARN.NIC.SURFNET.NL\\n+  In France:      TRICKLE@FRMOP11      TRICKLE@FRMOP11.CNUSC.FR\\n+  In Colombia:    TRICKLE@UNALCOL      TRICKLE@UNALCOL.UNAL.EDU.CO\\n+  In Taiwan:      TRICKLE@TWNMOE10     TRICKLE@TWNMOE10.EDU.TW\\n+\\n+  You are  urged to use the  one that is closer  to your location.\\n+  Send a message to one of these containing the body\\n+\\n+  /HELP\\n+\\n+  and you\\'ll get more instructions.\\n\\n\\nLightwave 3D mail based file-server\\n-----------------------------------\\n  A mail based file server for 3D objects, 24bit JPEG images, GIF images\\n  and image maps is now online for all those with Internet mail access.\\n  The server is the official archive site for the Lightwave 3D mail-list\\n  and contains many PD and Shareware graphics utilities for\\n  several computer platforms including Amiga, Atari, IBM and Macintosh.\\n\\n  The server resides on a BBS called \"The Graphics BBS\".  The BBS is\\n  operational 24 hours a day 7 days a week at the phone number of +1\\n  908/469-0049.  It has upgraded its modem to a Hayes Ultra 144\\n  V.32bis/V.42bis, which has speeds from 300bps up to 38,400bps.\\n\\n  If you would like to submit objects, scenes or images to the server,\\n  please pack, uuencode and then mail the files to the address:\\n  server@bobsbox.rent.com.\\n\\n  For information on obtaining files from the server send a mail message\\n  to the address file-server@graphics.rent.com with the following in\\n  the body of the message:\\n    HELP\\n    /DIR\\n  And a help file describing how to use the server and a complete\\n  directory listing will be sent to you via mail.\\n\\n[ Now it includes the Cyberware head and shouders in TTDDD format! Check it\\n out, only if you can\\'t use FTP! -- nfotis ]\\n\\nINRIA-GRAPHLIB\\n--------------\\n  Pierre Jancene and Sabine Coquillart launched the inria-graphlib mail\\n  server a few months ago.\\n\\n    echo help | mail inria-graphlib@inria.fr\\n\\n  will give you a quick summary of what inria-graphlib contains and \\n  how to browse among its files.\\n\\n    echo send contents | mail inria-graphlib@inria.fr\\n\\n  will return the extended summary.\\n\\n  As an other example :\\n\\n    echo send cgrl from Misc | mail inria-graphlib@inria.fr\\n\\n  will return the Computer Graphics Resource Listing mirrored from\\n  comp.graphics.\\n\\nBBSes\\n-----\\n  There are many BBSes that store datafiles, etc.etc., but a guide to these\\n  is beyond the scope of this Listing (and the resources of the author!)\\n  If you can point to me Internet- or mail- accessible BBSes that carry\\n  interesting stuff, send me info!\\n\\n\\n  Studio Amiga is a 3D modelling and ray tracing specific BBS, (817) 467-3658.\\n  24 hours, 105 Meg online.\\n--\\nFrom Jeff Walkup <pwappy@well.sf.ca.us>:\\n  \"The Castle\" 415/355-2396 (14.4K/v.32bis/v.42/v.42bis/MNP)\\n  (In Pacifica, dang close to San Francisco, California, USA)\\n  The new-user password is: \"TAO\".\\n  \\n  [J]oin base #2; The Castle G/FX, Anim, Video, 3D S.I.G., of which\\n  I am the SIG-Op, \"Lazerus\".\\n--\\n  Bob Lindabury operates a BBS (see above the entry for \"The Graphics BBS\")\\n--\\n\\'You Can Call Me Ray\\' ray tracing related BBS in Chicago suburbs (708-358-5611)\\n or (708-358-8721)\\n--\\n  Digital Pixel (Sysop: Mark Ng <mcng@descartes.waterloo.edu>) is based at\\n  Toronto, Ontario, Canada.\\n \\n  Phone : (416) 298 1487\\n  Storage space: 330 megs\\n  Modem type:  14.4k baud,16.8k (Zyxel) , v32bis ,v32, mnp 5\\n\\n  Access Fee: none.. (free)\\n  System supported : DOS, OS/2, Amiga, Mac.  \\n  Netmail:     Currently no echo mail.\\n  Topics:      Raytracing, Fractals, Graphics programming, CAD, Any Comp.\\n               Graphics related  \\n\\n--\\nFrom: David Tiberio <dtiberio@ic.sunysb.edu>\\n\\n  Amiga Graphics BBS (516) 473-6351 in Long Island, New York,\\n  running 24 hours at 14.4k v.32bis, with 157 megs on line.\\n  We also subscribe to 9 mailing lists, of which 5 originate\\n  from our BBS, with 3 more to be added soon. These include:\\n\\n  Lightwave, Imagine, Real 3D (ray tracing)\\n\\n  Database files include:\\n  Imagine 3D objects, 3D renderings, scalable fonts, music\\n  modules, sound samples, demos, animations, utilities,\\n  text databases, and pending Lightwave 3D objects.\\n--\\nThe Graphics Alternative\\n\\n The Graphics Alternative is in El Cerrito, CA., running 24 hours a\\n day at 14.4k HST/v.32bis, with 642MB online and a 1300+ user base.\\n TGA runs two nodes, node 1 (510) 524-2780 is for public access and\\n includes a free 90 day trial subscription.  TGA is the West Coast\\n Host for PCGnet, The Profesional CAD and Graphics Network, supporting\\n nodes across the Continental U.S., Alaska, New Zealand, Australia,\\n France and the UK.\\n \\n TGA\\'s file database includes MS-DOS executables for POV, Vivid,\\n RTrace, Rayshade, Polyray, and others.  TGA also has numerous\\n graphics utilities, viewers, and conversion utilities.  Registered\\n Vivid users can also download the latest Vivid aeta code from a\\n special Vivid conference.\\n\\n--\\nFrom: Scott Bethke <sbathkey@access.digex.com>\\n\\nThe Intersection BBS, 410-250-7149.\\n\\n  This BBS Is dedicated to supporting 3D Animators.The system is provided\\n  FREE OF CHARGE, and is NOT Commercialized in ANYWAY.\\n  Users are given FULL Access on the first call.\\n\\nFeatures: Usenet NEWS & Internet Mail, Fidonet Echo\\'s & Netmail,\\n\\t200 Megs online, V.32bis/V.42bis Modem.\\n\\nPlatforms of interest: Amiga & The VideoToaster, Macintosh, Ms-Dos,\\n\\tUnix Workstations (Sun, SGI, etc), Atari-ST.\\n--\\nFrom: Alfonso Hermida <afanh@robots.gsfc.nasa.gov>:\\n\\n Pi Square BBS (301)725-9080 in Maryland. It supports raytracers such as POV\\n and VIVID. The BBS runs off a 486/33Mhz, 100Megs hard drive and CD ROM.\\n Now it runs on 1200-2400bps (this will change soon)\\n\\n Topics: graphics programming, animation,raytracing,programming (general)\\n--\\nFrom: Lynn Falkow <ROXXIE@delphi.com>:\\n\\n  Vertech Design\\'s GRAPHIC CONNECTION. (503) 591-8412 in Portland, Oregon.\\n  V.32/V.42bis.\\n\\n  The BBS, aside from carrying typical BBS services like message bases\\n  ( all topic specific ) and files ( CAD and graphics related -- hundreds\\n  of megabytes ), also offers material texture files that are full color,\\n  seamlessly tiling, photo-realistic images.  There are samples available\\n  to first time callers.  The BBS is a subscription system although callers\\n  have 2 hours before they must subscribe, and there are several subscription\\n  rates available.   People interested in materials can subscribe to the\\n  library in addition to a basic subscription rate, and can use their\\n  purchased time to download whichever materials they wish.\\n\\n==========================================================================\\n\\n5. Ray-tracing/graphics-related mailing lists\\n=============================================\\n\\nImagine\\n-------\\n  Modeling and animation system for the Amiga:\\n  send subscription requests to Imagine-request@email.sp.paramax.com\\n  send material to Imagine@email.sp.paramax.com\\n  (Dave Wickard has substituted Steve Worley in the maintenance of\\n  the mailing list) - PLEASE note that the unisys.com address is\\n  NO longer valid!!!\\n\\nLightwave\\n---------\\n  (for the Amiga. It\\'s part of Newtek\\'s Video Toaster):\\n  send subscription requests to lightwave-request@bobsbox.rent.com\\n  send material to lightwave@bobsbox.rent.com\\n  (Bob Lindabury)\\n\\nToaster\\n-------\\n  send subscription requests to listserv@karazm.math.uh.edu with a *body* of:\\n     subscribe toaster-list\\n\\nReal 3D\\n-------\\n  Another modeling and animation system for the Amiga:\\n  To subscribe, send a mail containing the body\\n\\n  subscribe real3d-l <Your full name>\\n\\n  to listserv@gu.uwa.edu.au\\n\\nRayshade\\n--------\\n  send subscription requests to rayshade-request@cs.princeton.edu\\n  send material to rayshade-users@cs.princeton.edu\\n  (Craig Kolb)\\n\\nAlladin 4D for the Amiga\\n----------\\n  send subscription requests to subscribe@xamiga.linet.org\\n\\n  and in the body of the message write\\n\\n  #Alladin 4D username@domain\\n\\nRadiance\\n--------\\n  Greg Ward, the author, sends to registered (via e-mail) users digests of\\n  his correspodence with them, notes about fixes, updates, etc.\\n  His address is: gjward@lbl.gov\\n\\nREND386\\n-------\\n  send subscription requests to rend386-request@sunee.waterloo.edu\\n  send material to rend386@sunee.waterloo.edu\\n\\nPoV ray / DKB raytracers\\n------------------------\\n  To subscribe, send a mail containing the body\\n\\n  subscribe dkb-l <Your full name>\\n\\n  to listserv@trearn.bitnet\\n\\n  send material to dkb-l@trearn.bitnet\\n\\nMailing List for Massively Parallel Rendering\\n---------------------------------------------\\n  send subscription requests to mp-render-request@icase.edu\\n  send material to mp-render@icase.edu\\n\\n==========================================================================\\n\\n6. 3D graphics editors\\n======================\\n\\na. Public domain, free and shareware systems\\n============================================\\n\\nVISION-3D\\n---------\\n  Mac-based program written by Paul D. Bourke (pdbourke@ccu1.aukland.ac.nz).\\n  The program can be used to generate models directly in the RayShade\\n  and Radiance file formats (polygons only).\\n  It\\'s shareware and listed on the FTP list.\\n\\nBRL\\n---\\n  A solid modeling system for most environments -- including SGI and X11.\\n  It has CSG and NURBS, plus support for Non-Manifold Geometry\\n  [Whatever it is].\\n\\n  You can get it *free* via FTP by signing and returning the relevant license,\\n  found on ftp.brl.mil. Uses ray-tracing for engineering analyses.\\n\\n  Contact:\\n\\n  Ms. Carla Moyer\\n  (410)-273-7794 tel.\\n  (410)-272-6763 FAX\\n  cad-dist@brl.mil E-mail\\n\\n  Snail mail:\\n\\n  BRL-CAD Distribution\\n  SURVIAC Aberdeen Satellite Office 1003\\n  Old Philadelphia Road,\\n  Suite 103 Aberdeen\\n  MD  21001  USA\\n\\nIRIT\\n----\\n  A constructive solid geometry (CSG) modeling program for PC and X11.\\n  Includes freeform surface support. Free - see FTP list for where to\\n  find it.\\n\\nSurfModel\\n---------\\n  A solid modeling program for PC written in Turbo Pascal 6.0 by\\n  Ken Van Camp. Available from SIMTEL, pd1:<msdos.srfmodl> directory.\\n\\nNOODLES\\n-------\\n   From CMU, namely Fritz Printz and Levent Gursoz (elg@styx.edrc.cmu.edu).\\n   It\\'s based on Non Manifold Topology.\\n   Ask them for more info, I don\\'t know if they give it away.\\n\\nXYZ2\\n----\\n  XYZ2 is an interactive 3-D editor/builder written by Dale P. Stocker to\\n  create objects for the SurfaceModel, Automove, and DKB raytracer packages.\\n  XYZ2 is free and can be found, for example, in SIMTEL20 as\\n  <MSDOS.SURFMODL>XYZ21.ZIP (DOS only??)\\n\\n3DMOD\\n-----\\n  It\\'s an MSDOS program. Check at barnacle.erc.clarkson.edu [128.153.28.12],\\n  /pub/msdos/graphics/3dmod.* . Undocumented file format :-(\\n  3DMOD is (C) 1991 by Micah Silverman, 25 Pierrepoint Ave., Postdam,\\n  New York 13676, tel. 315-265-7140\\n\\nNORTHCAD\\n--------\\n  Shareware, <MSDOS.CAD>NCAD3D42.ZIP in SIMTEL20. Undocumented file format :-(\\n\\nVertex\\n------\\n  (Amiga)\\n  Shareware, send $40 US (check or money order) to:\\n\\n  The Art Machine, 4189 Nickolas\\n  Sterling Heights, MI  48310\\n  USA\\n\\n  In addition to the now standard file formats, including Lightwave,\\n  Imagine, Sculpt, Turbo Silver, GEO and Wavefront, this release offers\\n  3D Professional and RayShade support. (Rayshade is supported only by\\n  the primitive \"triangle\", but you can easily include this output in\\n  your RayShade scripts)\\n\\n  The latest demo, version 1.62, is available on Fred Fish #727.\\n\\n  For more information, contact the author, Alex Deburie, at:\\n\\n  ad99s461@sycom.mi.org, Phone: (313) 939-2513\\n  \\n\\nICoons\\n------\\n  (Amiga)\\n  It\\'s a spline based object modeller (\"ICoons\" = Interactive \\n  COONS path editor) in amiga.physik.unizh.ch (gfx/3d/ICoons1.0.lzh).\\n  It\\'s free (under the GNU Licence) and requires FPU.\\n\\n  The program has a look&feel which is a cross between Journeyman and\\n  Imagine, and it generates objects in TTDDD format.\\n\\n  It is possible to load Journeyman objects into ICoons, so the program\\n  can be used to convert JMan objects to Imagine format.\\n\\n  Author: Helge E. Rasmussen <her@compel.dk>\\n  PHONE + 45 36 72 33 00, FAX   + 45 36 72 43 00\\n\\n[ It\\'s also on Fred Fish disk series n.775 - nfotis ]\\n\\n\\nProtoCAD 3D\\n-----------\\n Ver 1.1 from Trius (shareware?)\\n\\n It\\'s at wsmr-simtel20.army.mil and oak.oakland.edu as PCAD3D.ZIP (for PCs)\\n\\n It has this menu layout:\\n\\n         FILE       File handling (Load, Save, Import, Xport...)\\n         DRAW       Draw 2D objects (Line, Circle, Box...)\\n         3D         Draw 3D objects (Mesh, Sphere, Block...)\\n         EDIT       Editing features (Copy, Move ...)\\n         SURFACE    Modify objects (Revolve, Xtrude, Sweep...)\\n         IMAGE      Image zooming features (Update, Window, Half...)\\n         OPTION     Global defaults (Grid, Toggles, Axis...)\\n         PLOT       Print drawing/picture (Go, Image...)\\n         RENDER     Shade objects (Frame, Lighting, Tune...)\\n         LAYER      Layer options (Select active layer, set Colors...)\\n\\nSculptura\\n---------\\n  Runs under Windows 3.1, and outputs PoV files. A demo can be found\\n  on wuarchive.wustl.edu in mirrors/win3/demo/demo3d.zip\\n\\n  Author: Michael Gibson <gibsonm@stein.u.washington.edu>\\n\\n\\nb. Commercial systems\\n=====================\\n\\nAlpha_1\\n-------\\n  A spline-based modeling program written in University of Utah.\\n  Features: splines up to trimmed NURBS; support for boolean operations;\\n    sweeps, bending, warping, flattening etc.; groups of objects, and\\n    transformations; extensible object types.\\n  Applications include: NC machining, Animation utilities,\\n    Dimensioning, FEM analysis, etc.\\n  Rendering subsystem, with support for animations.\\n  Support the following platforms: HP 300 and 800\\'s (X11R4, HP-UX 6.5),\\n    SGI 4D or PI machines (X11R4 and GL, IRIX 3.3.1), Sun SparcStation\\n    (X11R4, SunOS 4.1.1).\\n \\n  Licensing and distribution is handled by EGS:\\n    Glenn McMinn, President\\n    Engineering Geometry Systems\\n    275 East South Temple, Suite 305\\n    Salt Lake City, UT  84111\\n    (801) 575-6021\\n    mcminn@cs.utah.edu\\n\\n [ Educational pricing ]\\n  The charge is $675 per platform.  You may run the system on as many\\n  different workstations of that type as you wish.  For each platform\\n  there is also a $250 licensing fee for Portable Standard Lisp (PSL)\\n  which is bundled with the system.  You need to obtain an additional\\n  license from the University of Utah for PSL from the following address:\\n    Professor Robert Kessler\\n    Computer Science Department\\n    University of Utah\\n    Salt Lake City, Utah 84112\\n\\n  [ EGS can handle the licensing of PSL for U.S. institutions for a\\n    300 $USD nominal fee -- nfotis ]\\n\\nVERTIGO\\n-------\\n\\n  They have an Educational Institution Program. The package is used in\\n  the industrial design, architectural, scientific visualization,\\n  educational, broadcast, imaging and post production fields.\\n\\n  They\\'ll [quoting from a letter sent to me -- nfotis ] \"donate fully\\n  configured Vertigo 3D Graphics Software worth over $29,000USD per\\n  package to qualified educational institutions for licencing on any\\n  number of Silicon Graphics Personal IRIS or POWER Series Workstations.\\n  If you use an IRIS Indigo station, we will also licence our Vertigo\\n  Revolution Software (worth $12,000USD).\\n\\n  If you are interested in participating in this program please send a\\n  letter by mail or fax (604/684-2108) on your institution\\'s letterhead\\n  briefly outlining your potential uses for Vertigo together with the\\n  following information: 1. UNIX version 2. Model and number of SGI\\n  systems 3. Peripheral devices 4. Third Party Software.\\n\\n  Participants will be asked to contribute $750USD per institution to cover\\n  costs of the manual, administration, and shipping.\\n\\n  We recommend that Vertigo users subscribe to our technical support\\n  services. For an annual fee you will receive: technical assistance\\n  on our support hotline, bug fixes, software upgrades and manual updates.\\n  For educational institution we will waive the $750 administration fee\\n  if support is purchased.\\n\\n  The annual support fee is $2,500 plus the following cost for additional\\n  machines:\\n\\n  Number of machines:\\t\\t2-20\\t\\t20+\\n  Additional cost per machine:\\t$700\\t\\t$600 \"\\n\\n[ There\\'s also a 5-day training program - nfotis]\\n\\nContact:\\n  Vertigo Technology INC\\n  Suite 1010\\n  1030 West Georgia St.\\n  VANCOUVER, BC\\n  CANADA, V6E 2Y3\\n\\n  Phone: 604/684-2113\\n  Fax:   604/684-2108\\n\\n[ Does anyone know of such offers from TDI, Alias, Softimage, Wavefront,\\n  etc.??? this would be a VERY interesting part!!  -- nfotis ]\\n\\nPADL-2\\n------\\n[ Basically, it\\'s a Solid Modeling Kernel in top of which you build your\\n  application(s)]\\n\\n  Available by license from\\n    Cornell Programmable Automation\\n    Cornell University\\n    106 Engineering and Theory Center\\n    Ithaca, NY 14853\\n\\n  License fees are very low for educational institutions and gov\\'t agencies.\\n  Internal commercial licenses and re-dissemination licenses are available.\\n  For an information packet, write to the above address, or send your\\n  address to:   marisa@cpa.tn.cornell.edu (Richard Marisa)\\n\\nACIS\\n----\\n  From Spatial Technology. It\\'s a Solid Modelling kernel callable from C.\\n  Heard that many universities got free copies from the company.\\n  The person to contact regarding ACIS in academic institutions is\\n\\n    Scott Owens, e-mail: sdo@spatial.com\\n\\n  And their address is:\\n\\n  Spatial Technology, Inc.\\n  2425 55th St., Bldg. A\\n  Boulder, CO 80301-5704\\n  Phone: (303) 449-0649, Fax: (303) 449-0926\\n\\nMOVIE-BYU / CQUEL.BYU\\n---------------------\\n  Basically [in my understanding], this is a FEM pre- and post-proccessor\\n  system. It\\'s fairly old today, but it still serves some people in\\n  Mech. Eng. Depts.\\n  Now it\\'s superseded from CQUEL.BYU (pronounced \"sequel\"). That\\'s a\\n  complete modelling, animation and visualization package. Runs in the usual\\n  workstation environments (SUN, DEC, HP, SGI, IBM RS6000, and others)\\n  You can get a demo version (30-days trial period) either by sending $20\\n  USD in their address or a blank tape. It costs 1,500 for a full run-time\\n  licence.\\n\\n  Contact:\\n\\n  Engineering Computer Graphics Lab\\n  368 Clyde Building, Brigham Young Univ.\\n  Provo, UT 84602\\n  Phone: 801-378-2812\\n  E-mail: cquel@byu.edu\\n\\n\\ntwixt\\n-----\\n  Soon to add stuff about it... If I get a reply to my FAX\\n\\nVOXBLAST\\n--------\\n  It\\'s a volume renderer marketed by:\\n  Vaytek Inc. (Fairfield, Iowa phone: 515-472-2227) , running on PCs\\n  with 386+FPU at least.  Call Vaytek for more info.\\n\\nVoxelBox\\n--------\\n  A 3D Volume renderer for Windows. Features include direct\\n  ray-traced volume rendering, color and alpha mapping,\\n  gradient lighting, animation, reflections and shadows.\\n\\n  Runs on a PC(386 or higher) with at least an 8 bit video card(SVGA is fine)\\n  under Windows 3.x. It costs $495.\\n\\n  Contact:\\n\\n  Jaguar Software Inc.\\n  573 Main St., Suite 9B\\n  Winchester, MA 01890\\n  (617) 729-3659\\n  jwp@world.std.com (john w poduska)\\n\\n==========================================================================\\n\\n7. Scene description languages\\n==============================\\n\\nNFF\\n---\\n  Neutral file format , by Eric Haines. Very simple, there are some\\n  procedural database generators in the SPD package, and many objects\\n  floating in various FTP sites. There\\'s also a previewer written in\\n  HP Starbase from E.Haines. Also there\\'s one written in VOGLE, so you can\\n  use any of the devices VOGLE can output on.\\n  (Check in sites carrying VOGLE, like gondwana.ecr.mu.oz.au)\\n\\nOFF\\n---\\n  Object file format, from DEC\\'s Randy Rost (rost@kpc.com).\\n[ The object archive server seems to be mothballed. In a future version,\\n I\\'ll remove the ref. to it -- nfotis ]\\n\\n  Available also through their mail server. To obtain help about using this\\n  service, send a message with a \"Subject:\" line containing only the word\\n  \"help\" and a null message body to: object-archive-server@decwrl.dec.com.\\n  [For FTP places to get it, see in the relevant place]. There\\'s an OFF\\n  previewer for SGI 4D machines, called off-preview in\\n  godzilla.cgl.rmit.oz.au . There are previewers for xview and sunview,\\n  also on gondwana.\\n\\nTDDD\\n----\\nIt\\'s a library of 3D objects with translators to/from OFF, NFF,\\nRayshade, Imagine or vort objects.\\nEdited copy of the announcement follows (from Raytracing News, V4,#3):\\n\\n  New Library of 3D Objects Available via FTP, by Steve Worley\\n  (worley@cup.portal.com)\\n\\n  I have assembled a set of over 150 3D objects in a binary format\\n  called TDDD. These objects range from human figures to airplanes,\\n  from semi-trucks to lampposts.  These objects are all freely\\n  distributable, and most have READMEs that describe them.\\n\\n  In order to convert these objects to a human-readable format, a file\\n  with the specification of TDDD is included in the directory with the\\n  objects. There is also a shareware system called TTDDDLIB (officially\\n  on hubcap.clemson.edu) that will convert (ala PBM+) to/from various\\n  object formats : Imagine TTDDD (extension of TDDD?), OFF, NFF,\\n  Rayshade 4.0, or vort. Source included for Amiga/Unix as executables\\n  for the Amiga. Also outputs Framemaker MIF files and isometric views\\n  in Postscript.\\n\\nP3D\\n---\\n  From Pittsburgh Supercomputing Center. The P3D uses lisp with slight\\n  extensions to store three-dimensional models. A simple lisp\\n  interpreter is included with the P3D release, so there is no need to\\n  have access to any vendor\\'s lisp to run this software.\\n\\n  The mouse-driven user interfaces for Motif, Open Look, and Silicon\\n  Graphics GL, and the DrawP3D subroutine library for generating P3D\\n  without ever looking at the underlying Lisp.\\n\\n  The P3D software currently supports nine renderers.  They are:\\n  Painter - Painter\\'s Algorithm, Dore, Silicon Graphics Inc. GL language,\\n  Generic Phigs, Sun Phigs+, DEC Phigs+, Rayshade, ART ray tracer (from\\n  VORT package) and Pixar RenderMan.\\n\\n  The code is available via anonymous FTP from the machines\\n  ftp.psc.edu, directory pub/p3d, and nic.funet.fi, directory\\n  pub/graphics/programs/p3d.\\n\\nRenderMan\\n---------\\n  Pixar\\'s RenderMan is not free - call Pixar for details.\\n\\n==========================================================================\\n\\n8. Solids description formats\\n=============================\\n\\na. EEC\\'s ESPRIT project 322 CAD*I (CAD Interfaces) has developed a\\n  neutral file format for transfer of CAD data (curves, surfaces, and\\n  solid models between CAD systems and from CAD to CAA (Computer Aided\\n  Analysis) an CAM (Computer Aided Manufacturing)\\n\\nb. IGES [v. 5.1 now] tries to define a standard to tranfer solid\\n  models - Brep and CSG. The current standard number is ANSI Y14.26M-1987\\n  For documentation, you might want to contact Nancy Flower at\\n  NCGA Technical Services and Standards, 1-800-225-6242 ext. 325\\n  and the cost is $100.\\n  This standard is not available in electronic format.\\n\\nc. PDES/STEP : This slowly emerging standard tries to encompass not only\\n  the geometrical information, but also for things like FEM, etc.\\n  The main bodies besides this standard are NIST and DARPA. You can get\\n  more information about PDES by sending mail to nptserver@cme.nist.gov\\n  and putting the line\\n\\tsend index\\n  in the body (NOT the Subject:) area of the message.\\n\\n  The people at Rutherford Appleton Lab.  are also working\\n  on STEP tools: they have an EXPRESS compiler and an Exchange file parser,\\n  both available in source form (and for free) for research purposes.\\n  Soon they will also have an EXPRESS-based database system.\\n\\n  For the tools contact Mike Mead, Phone: +44 (0235) 44 6710 (FAX: x 5893),\\n  e-mail: mm@inf.rl.ac.uk or {...!}mcsun!uknet!rlinf!mm or\\n          mm%inf.rl.ac.uk@NSFnet-relay.ac.uk\\n\\n==========================================================================\\n\\nEnd of Part 1 of the Resource Listing',\n",
       " \"From: henry@zoo.toronto.edu (Henry Spencer)\\nSubject: Re: What planets are habitable\\nOrganization: U of Toronto Zoology\\nLines: 18\\n\\n\\nIndeed so; it's at the extreme limit of what is humanly possible.  It is\\npossible only because Mount Everest is at a fairly low latitude:  there\\nis a slight equatorial bulge in the atmosphere -- beyond what is induced\\nby the Earth's rotation -- thanks to the overall circulation pattern of\\nthe atmosphere (air cools at poles and descends, flowing back to equator\\nwhere it is warmed and rises), and this helps just enough to make Everest-\\nwithout-oxygen feasible.  Only just feasible, mind you:  the guys who did\\nit reported hallucinations and other indications of oxygen starvation,\\nand probably incurred some permanent brain damage.\",\n",
       " \"From: raunoh@otol.fi (Rauno Haapaniemi)\\nSubject: REAL-3D\\nNntp-Posting-Host: janus.otol.fi\\nReply-To: raunoh@otol.fi\\nOrganization: Oulu Institute of Technology\\nLines: 12\\n\\nEarlier today I read an ad for REAL-3D animation & ray-tracing software and\\nit looked very convincing to me. However, I don't own an Amiga and so I began \\nto wonder, if there's a PC version of it.\\n\\nSo, has anyone seen/used REAl-3D for DOS??\\n\",\n",
       " \"From: mathew <mathew@mantis.co.uk>\\nSubject: Re: Who has read Rushdie's _The Satanic Verses_?\\nOrganization: Mantis Consultants, Cambridge. UK.\\nX-Newsreader: rusnews v1.02\\nLines: 20\\n\\n\\nI bought a copy of The Satanic Verses when there was talk of the British\\nGovernment banning it.  There's nothing interests me in a book more than\\nmaking it illegal.\\n\\nHowever, it's still sitting on my shelf unread.  Perhaps I'll get round to it\\nsoon.  I've still got a pile of Lem, Bulgakov and Zamyatin to go through; I\\ndon't find nearly enough time to read.  In fact, there are far more\\ninteresting things to do than I can ever find time for; how anyone ever\\nmanages to be bored is beyond me.  If I didn't have to sleep, maybe I could\\nmanage it.\\n\\n\\nmathew\",\n",
       " 'From: darice@yoyo.cc.monash.edu.au (Fred Rice)\\nSubject: Re: Genocide is Caused by Atheism\\nOrganization: Monash University, Melb., Australia.\\nLines: 19\\n\\n\\n\\n\\n\\nSure, a person could have great respect for Jesus and yet be an \\natheist.  (Having great respect for Jesus does not necessarily mean \\nthat one has to follow the Christian [or Muslim] interpretation of \\nhis life.) ',\n",
       " 'From: Edwin Gans\\nSubject: Atheism\\nNntp-Posting-Host: 47.107.76.97\\nOrganization: Bell-Northern Research\\nLines: 1\\n\\n \\n',\n",
       " 'From: mne@ing.puc.cl (Marcelo Neira Eid)\\nSubject: raw2gif ?\\nNntp-Posting-Host: malloco.ing.puc.cl\\nOrganization: Pontificia Universidad Catolica de Chile\\nX-Newsreader: TIN [version 1.1 PL8]\\nLines: 14\\n\\n\\tHello:\\n\\tcan anybody help me to find a program that converts a format named\\n\\t\"raw\" (also known as \"img\") to the \"gif\" format or \"jpeg\" one.\\n\\tIt\\'s desirable to be for a unix machine than for a PC.\\n\\n\\t(\\n\\t\"Raw\" format of a N*N image is a file that contain a tail of \\n\\tN*N characters, each one referencing to the k*N+j pixel of the \\n\\tmonocrome image, where k and j lies between 0 and N-1.\\n\\t).\\n\\t\\t',\n",
       " \"From: baalke@kelvin.jpl.nasa.gov (Ron Baalke)\\nSubject: Mars Exploration Lecture\\nOrganization: Jet Propulsion Laboratory\\nLines: 45\\nDistribution: world\\nNNTP-Posting-Host: kelvin.jpl.nasa.gov\\nKeywords: Mars, JPL\\nNews-Software: VAX/VMS VNEWS 1.41    \\n\\n     The AIAA San Gabriel Valley Section is sponsoring the following lecture\\non Mars exploration at the Jet Propulsion Lab.  Admission is free and open to\\nthe public.\\n\\n                           The Next Frontier:\\n                    The Challenge of Mars Exploration\\n\\n                      DATE:     May 6, 1993\\n                      TIME:     6:00PM - 8:30 PM\\n                      LOCATION: Von Karman Auditorium\\n                                Jet Propulsion Lab\\n                                4800 Oak Grove Drive\\n                                Pasadena, California\\n\\n     The following five speakers will be featured:\\n\\n              A Science Fiction Perspective\\n              Tom McDonaugh\\n              Science Fiction Writer\\n\\n               Mars Observer\\n               Dr. Arden Albee\\n               Project Scientist, Mars Observer - JPL\\n\\n               Mars '94\\n               Dr. Arthur L. Lane\\n               Instrument Manager, Mars '94 - JPL\\n\\n               Mars Environmental Survey (MESUR)\\n               Richard Cook\\n               Mission Designer - JPL\\n\\n               Manned Mission to Mars\\n               Dr. Robert Zubrin\\n               Senior Engineer, Martin Marietta Astronautics\"]"
      ]
     },
     "execution_count": 70,
     "metadata": {},
     "output_type": "execute_result"
    }
   ],
   "source": [
    "newsgroup_train.data[10:20]"
   ]
  },
  {
   "cell_type": "code",
   "execution_count": 71,
   "metadata": {},
   "outputs": [],
   "source": [
    "W1=clf.fit_transform(vectors_tfidf)\n",
    "H1=clf.components_"
   ]
  },
  {
   "cell_type": "code",
   "execution_count": 73,
   "metadata": {},
   "outputs": [
    {
     "data": {
      "text/plain": [
       "['god people don say think believe just christian',\n",
       " 'sgi wpd solntze livesey com jon world distribution',\n",
       " 'sandvik kent tourist cookamunga newton bureau apple cheers',\n",
       " 'access digex net pat hst prb express online',\n",
       " 'edu graphics image space university subject lines organization']"
      ]
     },
     "execution_count": 73,
     "metadata": {},
     "output_type": "execute_result"
    }
   ],
   "source": [
    "show_topics(H1)"
   ]
  },
  {
   "cell_type": "code",
   "execution_count": 74,
   "metadata": {},
   "outputs": [
    {
     "data": {
      "text/plain": [
       "[<matplotlib.lines.Line2D at 0x2334d0e3b08>]"
      ]
     },
     "execution_count": 74,
     "metadata": {},
     "output_type": "execute_result"
    },
    {
     "data": {
      "image/png": "[encoded data removed]",
      "text/plain": [
       "<Figure size 432x288 with 1 Axes>"
      ]
     },
     "metadata": {
      "needs_background": "light"
     },
     "output_type": "display_data"
    }
   ],
   "source": [
    "plt.plot(clf.components_[0])"
   ]
  },
  {
   "cell_type": "code",
   "execution_count": 81,
   "metadata": {},
   "outputs": [
    {
     "data": {
      "text/plain": [
       "35.87168984606751"
      ]
     },
     "execution_count": 81,
     "metadata": {},
     "output_type": "execute_result"
    }
   ],
   "source": [
    "clf.reconstruction_err_"
   ]
  },
  {
   "cell_type": "markdown",
   "metadata": {},
   "source": [
    "# Truncated SVD"
   ]
  },
  {
   "cell_type": "markdown",
   "metadata": {},
   "source": [
    "### Timing comprision"
   ]
  },
  {
   "cell_type": "code",
   "execution_count": 82,
   "metadata": {},
   "outputs": [
    {
     "name": "stdout",
     "output_type": "stream",
     "text": [
      "Wall time: 17.8 s\n"
     ]
    }
   ],
   "source": [
    "%time u,s,v=np.linalg.svd(vectors,full_matrices=False)"
   ]
  },
  {
   "cell_type": "code",
   "execution_count": 87,
   "metadata": {},
   "outputs": [],
   "source": [
    "import fbpca"
   ]
  },
  {
   "cell_type": "code",
   "execution_count": 88,
   "metadata": {},
   "outputs": [
    {
     "name": "stdout",
     "output_type": "stream",
     "text": [
      "Wall time: 5.94 s\n"
     ]
    }
   ],
   "source": [
    "%time u,s,v=decomposition.randomized_svd(vectors,10)"
   ]
  },
  {
   "cell_type": "code",
   "execution_count": 89,
   "metadata": {},
   "outputs": [
    {
     "name": "stdout",
     "output_type": "stream",
     "text": [
      "Wall time: 1.89 s\n"
     ]
    }
   ],
   "source": [
    "%time u,s,v = fbpca.pca(vectors,10)"
   ]
  },
  {
   "cell_type": "code",
   "execution_count": null,
   "metadata": {},
   "outputs": [],
   "source": []
  }
 ],
 "metadata": {
  "kernelspec": {
   "display_name": "Python 3",
   "language": "python",
   "name": "python3"
  },
  "language_info": {
   "codemirror_mode": {
    "name": "ipython",
    "version": 3
   },
   "file_extension": ".py",
   "mimetype": "text/x-python",
   "name": "python",
   "nbconvert_exporter": "python",
   "pygments_lexer": "ipython3",
   "version": "3.7.6"
  }
 },
 "nbformat": 4,
 "nbformat_minor": 4
}
