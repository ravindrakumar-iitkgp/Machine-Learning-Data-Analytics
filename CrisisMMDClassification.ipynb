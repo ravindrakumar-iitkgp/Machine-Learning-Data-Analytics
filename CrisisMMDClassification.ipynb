{
  "nbformat": 4,
  "nbformat_minor": 0,
  "metadata": {
    "colab": {
      "name": "CrisisMMDClassification.ipynb",
      "provenance": [],
      "mount_file_id": "1vGxRAVPRW53Rz9RExO6mbWFWkWTMxo3I",
      "authorship_tag": "ABX9TyN9Hx/lxiT2n61wh46DOLqH",
      "include_colab_link": true
    },
    "kernelspec": {
      "name": "python3",
      "display_name": "Python 3"
    }
  },
  "cells": [
    {
      "cell_type": "markdown",
      "metadata": {
        "id": "view-in-github",
        "colab_type": "text"
      },
      "source": [
        "<a href=\"https://colab.research.google.com/github/ravindrakumar-iitkgp/Machine-Learning-Data-Analytics-Deep-Learning-NLP/blob/master/CrisisMMDClassification.ipynb\" target=\"_parent\"><img src=\"https://colab.research.google.com/assets/colab-badge.svg\" alt=\"Open In Colab\"/></a>"
      ]
    },
    {
      "cell_type": "code",
      "metadata": {
        "id": "NqJtdNHT77FY",
        "colab_type": "code",
        "outputId": "20cd249d-070a-4f4b-e044-3d24bbfee1a1",
        "colab": {
          "base_uri": "https://localhost:8080/",
          "height": 35
        }
      },
      "source": [
        "pwd"
      ],
      "execution_count": 12,
      "outputs": [
        {
          "output_type": "execute_result",
          "data": {
            "text/plain": [
              "'/content/drive/My Drive/GitCrisisMMD/multimodal_social_media-master'"
            ]
          },
          "metadata": {
            "tags": []
          },
          "execution_count": 12
        }
      ]
    },
    {
      "cell_type": "code",
      "metadata": {
        "id": "n1Ckuj_a8DVI",
        "colab_type": "code",
        "outputId": "b4ad307c-7fa3-41d8-fbd2-8d96a6dedd83",
        "colab": {
          "base_uri": "https://localhost:8080/",
          "height": 35
        }
      },
      "source": [
        "cd /content/drive/My Drive/GitCrisisMMD/multimodal_social_media-master"
      ],
      "execution_count": 2,
      "outputs": [
        {
          "output_type": "stream",
          "text": [
            "/content/drive/My Drive/GitCrisisMMD/multimodal_social_media-master\n"
          ],
          "name": "stdout"
        }
      ]
    },
    {
      "cell_type": "code",
      "metadata": {
        "id": "FoIseOWn91xf",
        "colab_type": "code",
        "outputId": "a9d59782-80e7-498d-da2b-a022d51c8537",
        "colab": {
          "base_uri": "https://localhost:8080/",
          "height": 35
        }
      },
      "source": [
        "pwd"
      ],
      "execution_count": 3,
      "outputs": [
        {
          "output_type": "execute_result",
          "data": {
            "text/plain": [
              "'/content/drive/My Drive/GitCrisisMMD/multimodal_social_media-master'"
            ]
          },
          "metadata": {
            "tags": []
          },
          "execution_count": 3
        }
      ]
    },
    {
      "cell_type": "code",
      "metadata": {
        "id": "dt-2bbyE93d3",
        "colab_type": "code",
        "colab": {}
      },
      "source": [
        "# import tarfile\n",
        "# tf = tarfile.open('/content/drive/My Drive/GitCrisisMMD/multimodal_social_media-master/data/CrisisMMD_v2.0.tar.gz')\n",
        "# tf.extractall()"
      ],
      "execution_count": 0,
      "outputs": []
    },
    {
      "cell_type": "code",
      "metadata": {
        "id": "wpEWc5wVOctV",
        "colab_type": "code",
        "colab": {}
      },
      "source": [
        "# import zipfile\n",
        "# zf = zipfile.ZipFile('/content/drive/My Drive/GitCrisisMMD/multimodal_social_media-master/data/crisismmd_datasplit_agreed_label.zip')\n",
        "# zf.extractall()"
      ],
      "execution_count": 0,
      "outputs": []
    },
    {
      "cell_type": "code",
      "metadata": {
        "id": "84kS-7_DPz5x",
        "colab_type": "code",
        "colab": {}
      },
      "source": [
        "# ! tar -xvf CrisisMMD_v2.0.tar.gz"
      ],
      "execution_count": 0,
      "outputs": []
    },
    {
      "cell_type": "code",
      "metadata": {
        "id": "Fgj7kC5DIF3u",
        "colab_type": "code",
        "colab": {}
      },
      "source": [
        "#! mv CrisisMMD_v2.0/data_image $PWD/"
      ],
      "execution_count": 0,
      "outputs": []
    },
    {
      "cell_type": "code",
      "metadata": {
        "id": "MYQ9W7-GM-UC",
        "colab_type": "code",
        "colab": {}
      },
      "source": [
        ""
      ],
      "execution_count": 0,
      "outputs": []
    }
  ]
}